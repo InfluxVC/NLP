{
 "cells": [
  {
   "cell_type": "markdown",
   "metadata": {},
   "source": [
    "# Unit 12 - Tales from the Crypto\n",
    "\n",
    "---\n"
   ]
  },
  {
   "cell_type": "markdown",
   "metadata": {},
   "source": [
    "## 1. Sentiment Analysis\n",
    "\n",
    "Use the [newsapi](https://newsapi.org/) to pull the latest news articles for Bitcoin and Ethereum and create a DataFrame of sentiment scores for each coin.\n",
    "\n",
    "Use descriptive statistics to answer the following questions:\n",
    "1. Which coin had the highest mean positive score?\n",
    "2. Which coin had the highest negative score?\n",
    "3. Which coin had the highest positive score?"
   ]
  },
  {
   "cell_type": "code",
   "execution_count": 200,
   "metadata": {},
   "outputs": [
    {
     "name": "stderr",
     "output_type": "stream",
     "text": [
      "[nltk_data] Downloading package vader_lexicon to\n",
      "[nltk_data]     /Users/manoloserrano/nltk_data...\n",
      "[nltk_data]   Package vader_lexicon is already up-to-date!\n"
     ]
    }
   ],
   "source": [
    "# Initial imports\n",
    "import os\n",
    "import pandas as pd\n",
    "import numpy as np\n",
    "from dotenv import load_dotenv, find_dotenv\n",
    "import nltk as nltk\n",
    "nltk.download('vader_lexicon')\n",
    "from nltk.sentiment.vader import SentimentIntensityAnalyzer\n",
    "analyzer = SentimentIntensityAnalyzer()\n",
    "\n",
    "%matplotlib inline"
   ]
  },
  {
   "cell_type": "code",
   "execution_count": 201,
   "metadata": {},
   "outputs": [],
   "source": [
    "# Read your api key environment variable\n",
    "load_dotenv(find_dotenv())\n",
    "NEWS_API_KEY= os.environ.get('NEWS_API_KEY')\n",
    "\n"
   ]
  },
  {
   "cell_type": "code",
   "execution_count": 202,
   "metadata": {},
   "outputs": [],
   "source": [
    "# Create a newsapi client\n",
    "from newsapi import NewsApiClient\n",
    "\n",
    "api=NewsApiClient(api_key=NEWS_API_KEY)\n",
    "\n"
   ]
  },
  {
   "cell_type": "code",
   "execution_count": 203,
   "metadata": {
    "tags": []
   },
   "outputs": [
    {
     "name": "stdout",
     "output_type": "stream",
     "text": [
      "Total articles about Bitcoin:6664\n"
     ]
    },
    {
     "data": {
      "text/plain": [
       "{'source': {'id': 'engadget', 'name': 'Engadget'},\n",
       " 'author': 'Jon Fingas',\n",
       " 'title': 'AMC theaters will accept cryptocurrencies beyond Bitcoin',\n",
       " 'description': \"You won't have to stick to Bitcoin if you're determined to pay for your movie ticket with cryptocurrency. AMC chief Adam Aron has revealed his theater chain will also accept Ethereum, Litecoin and Bitcoin Cash when crypto payments are available. He didn't hav…\",\n",
       " 'url': 'https://www.engadget.com/amc-theaters-accept-ethereum-litecoin-bitcoin-cash-132642183.html',\n",
       " 'urlToImage': 'https://s.yimg.com/os/creatr-uploaded-images/2021-09/4a01cb80-16eb-11ec-abfe-c7b840dd48ca',\n",
       " 'publishedAt': '2021-09-16T13:26:42Z',\n",
       " 'content': \"You won't have to stick to Bitcoin if you're determined to pay for your movie ticket with cryptocurrency. AMC chief Adam Aron has revealed his theater chain will also accept Ethereum, Litecoin and Bi… [+1198 chars]\"}"
      ]
     },
     "execution_count": 203,
     "metadata": {},
     "output_type": "execute_result"
    }
   ],
   "source": [
    "# Fetch the Bitcoin news articles\n",
    "Bitcoin_headlines=api.get_everything(\n",
    "    q='bitcoin',\n",
    "    language='en',\n",
    "    page_size=100,\n",
    "    sort_by='relevancy'\n",
    " )\n",
    "print(f\"Total articles about Bitcoin:{Bitcoin_headlines['totalResults']}\")\n",
    "Bitcoin_headlines['articles'][0]"
   ]
  },
  {
   "cell_type": "code",
   "execution_count": 204,
   "metadata": {
    "tags": []
   },
   "outputs": [
    {
     "name": "stdout",
     "output_type": "stream",
     "text": [
      "Total articles about Ethereum:2681\n"
     ]
    },
    {
     "data": {
      "text/plain": [
       "{'source': {'id': 'the-verge', 'name': 'The Verge'},\n",
       " 'author': 'Kim Lyons',\n",
       " 'title': 'China’s central bank bans cryptocurrency transactions to avoid ‘risks’',\n",
       " 'description': 'China’s central bank on Friday said cryptocurrency transactions in the country are illegal, banning all transactions. It said cryptocurrencies like bitcoin and Ethereum are not legal tender and can’t be circulated.',\n",
       " 'url': 'https://www.theverge.com/2021/9/24/22691472/china-central-bank-cryptocurrency-illegal-bitcoin',\n",
       " 'urlToImage': 'https://cdn.vox-cdn.com/thumbor/mde_l3lUC4muDPEFG7LYrUz0O3g=/0x146:2040x1214/fit-in/1200x630/cdn.vox-cdn.com/uploads/chorus_asset/file/8921023/acastro_bitcoin_2.jpg',\n",
       " 'publishedAt': '2021-09-24T16:22:55Z',\n",
       " 'content': 'Its the countrys latest crackdown on digital currencies\\r\\nIllustration by Alex Castro / The Verge\\r\\nThe Peoples Bank of China, the countrys central bank, said Friday that cryptocurrency transactions ar… [+1461 chars]'}"
      ]
     },
     "execution_count": 204,
     "metadata": {},
     "output_type": "execute_result"
    }
   ],
   "source": [
    "# Fetch the Ethereum news articles\n",
    "Ethereum_headlines=api.get_everything(\n",
    "    q='ethereum',\n",
    "    language='en',\n",
    "    page_size=100,\n",
    "    sort_by='relevancy'\n",
    ")\n",
    "print(f\"Total articles about Ethereum:{Ethereum_headlines['totalResults']}\")\n",
    "Ethereum_headlines['articles'][0]"
   ]
  },
  {
   "cell_type": "code",
   "execution_count": null,
   "metadata": {
    "tags": []
   },
   "outputs": [],
   "source": []
  },
  {
   "cell_type": "code",
   "execution_count": null,
   "metadata": {},
   "outputs": [],
   "source": []
  },
  {
   "cell_type": "code",
   "execution_count": null,
   "metadata": {
    "tags": []
   },
   "outputs": [],
   "source": []
  },
  {
   "cell_type": "code",
   "execution_count": 205,
   "metadata": {
    "tags": []
   },
   "outputs": [
    {
     "data": {
      "text/html": [
       "<div>\n",
       "<style scoped>\n",
       "    .dataframe tbody tr th:only-of-type {\n",
       "        vertical-align: middle;\n",
       "    }\n",
       "\n",
       "    .dataframe tbody tr th {\n",
       "        vertical-align: top;\n",
       "    }\n",
       "\n",
       "    .dataframe thead th {\n",
       "        text-align: right;\n",
       "    }\n",
       "</style>\n",
       "<table border=\"1\" class=\"dataframe\">\n",
       "  <thead>\n",
       "    <tr style=\"text-align: right;\">\n",
       "      <th></th>\n",
       "      <th>compound</th>\n",
       "      <th>date</th>\n",
       "      <th>negative</th>\n",
       "      <th>neutral</th>\n",
       "      <th>positive</th>\n",
       "      <th>text</th>\n",
       "    </tr>\n",
       "  </thead>\n",
       "  <tbody>\n",
       "    <tr>\n",
       "      <th>0</th>\n",
       "      <td>0.5574</td>\n",
       "      <td>2021-09-16</td>\n",
       "      <td>0.036</td>\n",
       "      <td>0.838</td>\n",
       "      <td>0.127</td>\n",
       "      <td>You won't have to stick to Bitcoin if you're d...</td>\n",
       "    </tr>\n",
       "    <tr>\n",
       "      <th>1</th>\n",
       "      <td>0.0000</td>\n",
       "      <td>2021-09-23</td>\n",
       "      <td>0.000</td>\n",
       "      <td>1.000</td>\n",
       "      <td>0.000</td>\n",
       "      <td>Four months after Twitter first introduced in-...</td>\n",
       "    </tr>\n",
       "    <tr>\n",
       "      <th>2</th>\n",
       "      <td>0.3400</td>\n",
       "      <td>2021-10-06</td>\n",
       "      <td>0.000</td>\n",
       "      <td>0.924</td>\n",
       "      <td>0.076</td>\n",
       "      <td>&lt;ul&gt;&lt;li&gt;Bitcoin, in terms of market value, ros...</td>\n",
       "    </tr>\n",
       "    <tr>\n",
       "      <th>3</th>\n",
       "      <td>0.0000</td>\n",
       "      <td>2021-09-25</td>\n",
       "      <td>0.000</td>\n",
       "      <td>1.000</td>\n",
       "      <td>0.000</td>\n",
       "      <td>Bitcoin and similar blockchain-based cryptos e...</td>\n",
       "    </tr>\n",
       "    <tr>\n",
       "      <th>4</th>\n",
       "      <td>-0.2411</td>\n",
       "      <td>2021-10-04</td>\n",
       "      <td>0.116</td>\n",
       "      <td>0.884</td>\n",
       "      <td>0.000</td>\n",
       "      <td>JPMorgan CEO Jamie Dimon is still not a Bitcoi...</td>\n",
       "    </tr>\n",
       "  </tbody>\n",
       "</table>\n",
       "</div>"
      ],
      "text/plain": [
       "   compound        date  negative  neutral  positive  \\\n",
       "0    0.5574  2021-09-16     0.036    0.838     0.127   \n",
       "1    0.0000  2021-09-23     0.000    1.000     0.000   \n",
       "2    0.3400  2021-10-06     0.000    0.924     0.076   \n",
       "3    0.0000  2021-09-25     0.000    1.000     0.000   \n",
       "4   -0.2411  2021-10-04     0.116    0.884     0.000   \n",
       "\n",
       "                                                text  \n",
       "0  You won't have to stick to Bitcoin if you're d...  \n",
       "1  Four months after Twitter first introduced in-...  \n",
       "2  <ul><li>Bitcoin, in terms of market value, ros...  \n",
       "3  Bitcoin and similar blockchain-based cryptos e...  \n",
       "4  JPMorgan CEO Jamie Dimon is still not a Bitcoi...  "
      ]
     },
     "execution_count": 205,
     "metadata": {},
     "output_type": "execute_result"
    }
   ],
   "source": [
    "# Create the Bitcoin sentiment scores DataFrame\n",
    "\n",
    "Bitcoin_sentiments = []\n",
    "\n",
    "for article in Bitcoin_headlines['articles']:\n",
    "    try:\n",
    "        text = article['content']\n",
    "        date = article['publishedAt'][:10]\n",
    "        sentiment = analyzer.polarity_scores(text)\n",
    "        compound = sentiment[\"compound\"]\n",
    "        pos = sentiment['pos']\n",
    "        neu = sentiment['neu']\n",
    "        neg = sentiment['neg']\n",
    "        \n",
    "        Bitcoin_sentiments.append({\n",
    "            \"text\": text,\n",
    "            \"date\": date,\n",
    "            'compound': compound,\n",
    "            'positive': pos,\n",
    "            'negative': neg,\n",
    "            'neutral' : neu,\n",
    "            \n",
    "        })\n",
    "        \n",
    "    except AttributeError:\n",
    "        pass\n",
    "    \n",
    "bitcoin_df = pd.DataFrame(Bitcoin_sentiments)\n",
    "\n",
    "\n",
    "bitcoin_df.head()"
   ]
  },
  {
   "cell_type": "code",
   "execution_count": 206,
   "metadata": {
    "tags": []
   },
   "outputs": [
    {
     "data": {
      "text/html": [
       "<div>\n",
       "<style scoped>\n",
       "    .dataframe tbody tr th:only-of-type {\n",
       "        vertical-align: middle;\n",
       "    }\n",
       "\n",
       "    .dataframe tbody tr th {\n",
       "        vertical-align: top;\n",
       "    }\n",
       "\n",
       "    .dataframe thead th {\n",
       "        text-align: right;\n",
       "    }\n",
       "</style>\n",
       "<table border=\"1\" class=\"dataframe\">\n",
       "  <thead>\n",
       "    <tr style=\"text-align: right;\">\n",
       "      <th></th>\n",
       "      <th>compound</th>\n",
       "      <th>date</th>\n",
       "      <th>negative</th>\n",
       "      <th>neutral</th>\n",
       "      <th>positive</th>\n",
       "      <th>text</th>\n",
       "    </tr>\n",
       "  </thead>\n",
       "  <tbody>\n",
       "    <tr>\n",
       "      <th>0</th>\n",
       "      <td>0.0000</td>\n",
       "      <td>2021-09-24</td>\n",
       "      <td>0.000</td>\n",
       "      <td>1.000</td>\n",
       "      <td>0.000</td>\n",
       "      <td>Its the countrys latest crackdown on digital c...</td>\n",
       "    </tr>\n",
       "    <tr>\n",
       "      <th>1</th>\n",
       "      <td>0.5574</td>\n",
       "      <td>2021-09-16</td>\n",
       "      <td>0.036</td>\n",
       "      <td>0.838</td>\n",
       "      <td>0.127</td>\n",
       "      <td>You won't have to stick to Bitcoin if you're d...</td>\n",
       "    </tr>\n",
       "    <tr>\n",
       "      <th>2</th>\n",
       "      <td>0.2865</td>\n",
       "      <td>2021-09-16</td>\n",
       "      <td>0.126</td>\n",
       "      <td>0.694</td>\n",
       "      <td>0.180</td>\n",
       "      <td>OpenSea isn't wasting much time after its head...</td>\n",
       "    </tr>\n",
       "    <tr>\n",
       "      <th>3</th>\n",
       "      <td>0.4588</td>\n",
       "      <td>2021-09-22</td>\n",
       "      <td>0.000</td>\n",
       "      <td>0.892</td>\n",
       "      <td>0.108</td>\n",
       "      <td>Robinhood plans to start a cryptocurrency wall...</td>\n",
       "    </tr>\n",
       "    <tr>\n",
       "      <th>4</th>\n",
       "      <td>0.4215</td>\n",
       "      <td>2021-09-25</td>\n",
       "      <td>0.000</td>\n",
       "      <td>0.899</td>\n",
       "      <td>0.101</td>\n",
       "      <td>image source, foundation.app/@SideEyeingChloe\\...</td>\n",
       "    </tr>\n",
       "  </tbody>\n",
       "</table>\n",
       "</div>"
      ],
      "text/plain": [
       "   compound        date  negative  neutral  positive  \\\n",
       "0    0.0000  2021-09-24     0.000    1.000     0.000   \n",
       "1    0.5574  2021-09-16     0.036    0.838     0.127   \n",
       "2    0.2865  2021-09-16     0.126    0.694     0.180   \n",
       "3    0.4588  2021-09-22     0.000    0.892     0.108   \n",
       "4    0.4215  2021-09-25     0.000    0.899     0.101   \n",
       "\n",
       "                                                text  \n",
       "0  Its the countrys latest crackdown on digital c...  \n",
       "1  You won't have to stick to Bitcoin if you're d...  \n",
       "2  OpenSea isn't wasting much time after its head...  \n",
       "3  Robinhood plans to start a cryptocurrency wall...  \n",
       "4  image source, foundation.app/@SideEyeingChloe\\...  "
      ]
     },
     "execution_count": 206,
     "metadata": {},
     "output_type": "execute_result"
    }
   ],
   "source": [
    "# Create the Ethereum sentiment scores DataFrame\n",
    "Ethereum_sentiments = []\n",
    "\n",
    "for article in Ethereum_headlines['articles']:\n",
    "    try:\n",
    "        text = article['content']\n",
    "        date = article['publishedAt'][:10]\n",
    "        sentiment = analyzer.polarity_scores(text)\n",
    "        compound = sentiment[\"compound\"]\n",
    "        pos = sentiment['pos']\n",
    "        neu = sentiment['neu']\n",
    "        neg = sentiment['neg']\n",
    "        \n",
    "        Ethereum_sentiments.append({\n",
    "            \"text\": text,\n",
    "            \"date\": date,\n",
    "            'compound': compound,\n",
    "            'positive': pos,\n",
    "            'negative': neg,\n",
    "            'neutral' : neu,\n",
    "            \n",
    "        })\n",
    "        \n",
    "    except AttributeError:\n",
    "        pass\n",
    "    \n",
    "Ethereum_df = pd.DataFrame(Ethereum_sentiments)\n",
    "\n",
    "Ethereum_df.head()"
   ]
  },
  {
   "cell_type": "code",
   "execution_count": 207,
   "metadata": {},
   "outputs": [
    {
     "data": {
      "text/plain": [
       "compound    0.121725\n",
       "negative    0.026880\n",
       "neutral     0.917040\n",
       "positive    0.056100\n",
       "dtype: float64"
      ]
     },
     "execution_count": 207,
     "metadata": {},
     "output_type": "execute_result"
    }
   ],
   "source": [
    "Ethereum_df.mean()"
   ]
  },
  {
   "cell_type": "code",
   "execution_count": 208,
   "metadata": {},
   "outputs": [
    {
     "data": {
      "text/plain": [
       "<bound method NDFrame.describe of     compound        date  negative  neutral  positive  \\\n",
       "0     0.5574  2021-09-16     0.036    0.838     0.127   \n",
       "1     0.0000  2021-09-23     0.000    1.000     0.000   \n",
       "2     0.3400  2021-10-06     0.000    0.924     0.076   \n",
       "3     0.0000  2021-09-25     0.000    1.000     0.000   \n",
       "4    -0.2411  2021-10-04     0.116    0.884     0.000   \n",
       "5     0.4939  2021-10-06     0.000    0.781     0.219   \n",
       "6     0.1901  2021-09-28     0.043    0.866     0.091   \n",
       "7     0.5461  2021-10-10     0.000    0.879     0.121   \n",
       "8     0.0000  2021-09-24     0.000    1.000     0.000   \n",
       "9     0.3400  2021-10-08     0.000    0.901     0.099   \n",
       "10    0.5423  2021-09-24     0.034    0.847     0.119   \n",
       "11   -0.7096  2021-09-16     0.195    0.765     0.040   \n",
       "12    0.3291  2021-09-27     0.000    0.925     0.075   \n",
       "13    0.2263  2021-09-28     0.000    0.951     0.049   \n",
       "14    0.0000  2021-10-05     0.000    1.000     0.000   \n",
       "15    0.0258  2021-10-06     0.000    0.967     0.033   \n",
       "16   -0.1154  2021-09-29     0.061    0.891     0.049   \n",
       "17    0.7269  2021-10-06     0.000    0.798     0.202   \n",
       "18   -0.4404  2021-09-24     0.091    0.909     0.000   \n",
       "19    0.5267  2021-10-08     0.000    0.860     0.140   \n",
       "20    0.4215  2021-09-16     0.000    0.903     0.097   \n",
       "21    0.4588  2021-09-22     0.000    0.892     0.108   \n",
       "22    0.3365  2021-09-24     0.000    0.936     0.064   \n",
       "23   -0.3400  2021-09-24     0.101    0.838     0.061   \n",
       "24    0.2960  2021-10-07     0.000    0.936     0.064   \n",
       "25    0.0000  2021-10-05     0.000    1.000     0.000   \n",
       "26    0.0000  2021-10-01     0.000    1.000     0.000   \n",
       "27    0.0000  2021-09-30     0.000    1.000     0.000   \n",
       "28    0.0000  2021-10-06     0.000    1.000     0.000   \n",
       "29    0.0000  2021-10-06     0.000    1.000     0.000   \n",
       "..       ...         ...       ...      ...       ...   \n",
       "70    0.0000  2021-10-07     0.000    1.000     0.000   \n",
       "71    0.0000  2021-10-09     0.000    1.000     0.000   \n",
       "72   -0.4588  2021-10-13     0.086    0.914     0.000   \n",
       "73   -0.1531  2021-09-15     0.046    0.954     0.000   \n",
       "74   -0.2960  2021-09-17     0.073    0.927     0.000   \n",
       "75    0.2023  2021-09-24     0.000    0.951     0.049   \n",
       "76    0.0000  2021-10-05     0.000    1.000     0.000   \n",
       "77    0.4939  2021-10-07     0.000    0.829     0.171   \n",
       "78    0.0000  2021-09-28     0.000    1.000     0.000   \n",
       "79    0.0000  2021-09-26     0.000    1.000     0.000   \n",
       "80    0.3182  2021-09-15     0.071    0.793     0.136   \n",
       "81    0.0000  2021-09-30     0.000    1.000     0.000   \n",
       "82    0.0000  2021-09-13     0.000    1.000     0.000   \n",
       "83   -0.3919  2021-09-21     0.112    0.888     0.000   \n",
       "84   -0.2263  2021-10-12     0.064    0.936     0.000   \n",
       "85    0.0000  2021-09-22     0.000    1.000     0.000   \n",
       "86    0.0000  2021-10-13     0.000    1.000     0.000   \n",
       "87    0.2960  2021-09-16     0.044    0.875     0.081   \n",
       "88    0.5574  2021-09-27     0.000    0.863     0.137   \n",
       "89    0.0000  2021-09-22     0.000    1.000     0.000   \n",
       "90    0.3182  2021-09-29     0.000    0.937     0.063   \n",
       "91    0.0000  2021-09-24     0.000    1.000     0.000   \n",
       "92    0.5719  2021-10-07     0.000    0.885     0.115   \n",
       "93    0.5719  2021-09-15     0.000    0.890     0.110   \n",
       "94    0.5106  2021-10-13     0.000    0.888     0.112   \n",
       "95    0.3400  2021-09-13     0.000    0.926     0.074   \n",
       "96    0.0772  2021-10-05     0.000    0.965     0.035   \n",
       "97   -0.0418  2021-09-23     0.086    0.835     0.079   \n",
       "98    0.5106  2021-09-27     0.000    0.836     0.164   \n",
       "99    0.2732  2021-10-10     0.000    0.935     0.065   \n",
       "\n",
       "                                                 text  \n",
       "0   You won't have to stick to Bitcoin if you're d...  \n",
       "1   Four months after Twitter first introduced in-...  \n",
       "2   <ul><li>Bitcoin, in terms of market value, ros...  \n",
       "3   Bitcoin and similar blockchain-based cryptos e...  \n",
       "4   JPMorgan CEO Jamie Dimon is still not a Bitcoi...  \n",
       "5   How high are the chances of Bitcoin sustaining...  \n",
       "6   Elon Musk has performed a sudden U-turn on bit...  \n",
       "7   Specifically, why did someone make a massive p...  \n",
       "8   Its the countrys latest crackdown on digital c...  \n",
       "9   Last week, the Wall Street Journal ran a piece...  \n",
       "10  Twitter will now allow people to tip their fav...  \n",
       "11  image captionProtesters held signs reading \"no...  \n",
       "12  Cryptocurrency mining is awildlyenergy-intensi...  \n",
       "13  PayPal has two decades of experience in online...  \n",
       "14  The SEC boss remains mum about the regulatory ...  \n",
       "15  Digital currencies backed by central banks are...  \n",
       "16  Tesla CEO Elon Musk on Tuesday said the U.S. g...  \n",
       "17  A There Will Be Blood-style drama unfolds in C...  \n",
       "18  19 with 16 posters participating\\r\\nBitcoins m...  \n",
       "19  Securities and Exchange Commission headquarter...  \n",
       "20  A representation of cryptocurrency Bitcoin is ...  \n",
       "21  Robinhood plans to start a cryptocurrency wall...  \n",
       "22  Editor's Note: With so much market volatility,...  \n",
       "23  Bitcoin\\r\\nDan Kitwood/ Getty Images\\r\\nShares...  \n",
       "24  Bitcoin.\\r\\nChesnot/Getty Images\\r\\nA new exch...  \n",
       "25  A representation of virtual currency bitcoin i...  \n",
       "26  By Reuters Staff\\r\\nOct 1 (Reuters) - Bitcoin ...  \n",
       "27  A representation of cryptocurrency Bitcoin is ...  \n",
       "28  A representation of the virtual cryptocurrency...  \n",
       "29  Representations of the Bitcoin cryptocurrency ...  \n",
       "..                                                ...  \n",
       "70  Bitcoin\\r\\nNurphoto / Getty Images\\r\\n<ul><li>...  \n",
       "71  Michael Dell is bullish on blockchain technolo...  \n",
       "72  Bitcoin mining rigs.\\r\\nLARS HAGBERG/AFP via G...  \n",
       "73  NEW YORK, Sept 15 (Reuters) - Billionaire inve...  \n",
       "74  By Reuters Staff\\r\\nSAN SALVADOR (Reuters) - E...  \n",
       "75  NEW YORK, Sept 24 (Reuters) - Chinas moves to ...  \n",
       "76  A U.S. dollar banknote is seen in this illustr...  \n",
       "77  EL ZONTE, El Salvador, Oct 7 (Reuters) - A gro...  \n",
       "78  Bitcoin\\r\\nNurphoto\\r\\nInvestment bank Morgan ...  \n",
       "79  The cryptocurrency-ATM company Coinmover has o...  \n",
       "80  Sopa Images/Getty Images\\r\\nFidelity Digital A...  \n",
       "81  Jordan Mansfield /Getty Images\\r\\n<ul><li>Bitc...  \n",
       "82  A representations of cryptocurrency Bitcoin an...  \n",
       "83  Evergrande\\r\\nSTR/ Getty images\\r\\nBitcoin hov...  \n",
       "84  Mike Novogratz.\\r\\nJohn Lamparski/Getty Images...  \n",
       "85  Edward Smith/Getty Images\\r\\nInvesco confirmed...  \n",
       "86  BlackRock CEO Larry Fink (left) and JPMorgan C...  \n",
       "87  Australia-based buy now, pay later (BNPL) prov...  \n",
       "88  Miami Mayor Francis Suarez.\\r\\nLynne Sladky/AP...  \n",
       "89  Mining machines\\r\\nFEDERICO PARRA / Getty Imag...  \n",
       "90  Jack Dorsey , CEO of Twitter, had already anno...  \n",
       "91  Last May, the Chinese governmentbanned the cou...  \n",
       "92  This Wednesday, the price of Bitcoin (BTC) man...  \n",
       "93  Ruben Sprich/Reuters\\r\\nRay Dalio, founder of ...  \n",
       "94  China's share of the global hashrate -- the co...  \n",
       "95  MicroStrategy CEO Michael Saylor.\\r\\nJoe Raedl...  \n",
       "96  The South American nation is preparing to vote...  \n",
       "97  The Fine Print: The following comments are own...  \n",
       "98  The matchups have the potential to solve key i...  \n",
       "99  Of the three partnerships between bitcoin comp...  \n",
       "\n",
       "[100 rows x 6 columns]>"
      ]
     },
     "execution_count": 208,
     "metadata": {},
     "output_type": "execute_result"
    }
   ],
   "source": [
    "# Describe the Bitcoin Sentiment\n",
    "bitcoin_df.describe"
   ]
  },
  {
   "cell_type": "code",
   "execution_count": 209,
   "metadata": {},
   "outputs": [
    {
     "data": {
      "text/plain": [
       "<bound method NDFrame.describe of     compound        date  negative  neutral  positive  \\\n",
       "0     0.0000  2021-09-24     0.000    1.000     0.000   \n",
       "1     0.5574  2021-09-16     0.036    0.838     0.127   \n",
       "2     0.2865  2021-09-16     0.126    0.694     0.180   \n",
       "3     0.4588  2021-09-22     0.000    0.892     0.108   \n",
       "4     0.4215  2021-09-25     0.000    0.899     0.101   \n",
       "5     0.6705  2021-09-21     0.000    0.812     0.188   \n",
       "6     0.0000  2021-09-19     0.000    1.000     0.000   \n",
       "7     0.0000  2021-09-14     0.000    1.000     0.000   \n",
       "8     0.8765  2021-09-22     0.000    0.755     0.245   \n",
       "9    -0.6705  2021-09-15     0.169    0.831     0.000   \n",
       "10    0.4215  2021-09-16     0.000    0.903     0.097   \n",
       "11    0.0000  2021-10-11     0.000    1.000     0.000   \n",
       "12    0.1280  2021-09-16     0.000    0.952     0.048   \n",
       "13    0.0000  2021-10-12     0.000    1.000     0.000   \n",
       "14   -0.3818  2021-09-17     0.098    0.847     0.056   \n",
       "15    0.4404  2021-09-16     0.000    0.914     0.086   \n",
       "16    0.2023  2021-09-17     0.000    0.922     0.078   \n",
       "17    0.0000  2021-10-04     0.000    1.000     0.000   \n",
       "18    0.0000  2021-10-01     0.000    1.000     0.000   \n",
       "19    0.6705  2021-10-12     0.048    0.806     0.146   \n",
       "20    0.0000  2021-09-30     0.000    1.000     0.000   \n",
       "21    0.0000  2021-10-05     0.000    1.000     0.000   \n",
       "22    0.0000  2021-10-06     0.000    1.000     0.000   \n",
       "23    0.3400  2021-09-24     0.000    0.921     0.079   \n",
       "24    0.4767  2021-10-03     0.000    0.925     0.075   \n",
       "25    0.0000  2021-10-07     0.000    1.000     0.000   \n",
       "26    0.0000  2021-10-04     0.000    1.000     0.000   \n",
       "27    0.9413  2021-09-20     0.000    0.692     0.308   \n",
       "28    0.5423  2021-09-24     0.034    0.847     0.119   \n",
       "29    0.4767  2021-10-04     0.000    0.925     0.075   \n",
       "..       ...         ...       ...      ...       ...   \n",
       "70    0.5994  2021-09-15     0.000    0.864     0.136   \n",
       "71   -0.5859  2021-10-07     0.142    0.858     0.000   \n",
       "72    0.4019  2021-10-13     0.000    0.920     0.080   \n",
       "73    0.2263  2021-09-16     0.036    0.904     0.059   \n",
       "74   -0.2960  2021-09-24     0.064    0.936     0.000   \n",
       "75    0.0466  2021-09-27     0.104    0.788     0.108   \n",
       "76    0.0000  2021-10-08     0.000    1.000     0.000   \n",
       "77    0.0000  2021-09-23     0.000    1.000     0.000   \n",
       "78    0.6808  2021-10-13     0.000    0.859     0.141   \n",
       "79    0.5267  2021-10-05     0.000    0.872     0.128   \n",
       "80    0.2023  2021-10-01     0.000    0.948     0.052   \n",
       "81    0.0000  2021-10-07     0.000    1.000     0.000   \n",
       "82    0.0000  2021-09-24     0.000    1.000     0.000   \n",
       "83    0.4588  2021-10-04     0.041    0.838     0.122   \n",
       "84    0.0000  2021-09-13     0.000    1.000     0.000   \n",
       "85   -0.6369  2021-09-13     0.188    0.725     0.087   \n",
       "86    0.0000  2021-09-30     0.000    1.000     0.000   \n",
       "87    0.4215  2021-09-13     0.084    0.757     0.159   \n",
       "88   -0.2023  2021-09-16     0.099    0.824     0.077   \n",
       "89    0.0000  2021-10-02     0.000    1.000     0.000   \n",
       "90   -0.7579  2021-09-24     0.183    0.817     0.000   \n",
       "91    0.4939  2021-09-16     0.000    0.877     0.123   \n",
       "92    0.0000  2021-09-22     0.000    1.000     0.000   \n",
       "93   -0.2960  2021-09-27     0.103    0.829     0.069   \n",
       "94    0.0000  2021-09-30     0.000    1.000     0.000   \n",
       "95    0.0000  2021-09-28     0.000    1.000     0.000   \n",
       "96   -0.0772  2021-09-15     0.067    0.873     0.060   \n",
       "97    0.6597  2021-09-17     0.000    0.847     0.153   \n",
       "98    0.4019  2021-09-30     0.000    0.922     0.078   \n",
       "99    0.3818  2021-10-12     0.000    0.920     0.080   \n",
       "\n",
       "                                                 text  \n",
       "0   Its the countrys latest crackdown on digital c...  \n",
       "1   You won't have to stick to Bitcoin if you're d...  \n",
       "2   OpenSea isn't wasting much time after its head...  \n",
       "3   Robinhood plans to start a cryptocurrency wall...  \n",
       "4   image source, foundation.app/@SideEyeingChloe\\...  \n",
       "5   image credit:Sorare\\r\\nFrench startup Sorare h...  \n",
       "6   Vitalik Buterin\\r\\nVitalik Buterin dreamed up ...  \n",
       "7   Cardano ada\\r\\nSOPA images\\r\\nThe cardano netw...  \n",
       "8   The world is slowly but surely making a shift ...  \n",
       "9   Sen. Elizabeth Warren.\\r\\nGREG NASH/POOL/AFP v...  \n",
       "10  A representation of cryptocurrency Bitcoin is ...  \n",
       "11  An immersive art installation, which will be c...  \n",
       "12  Vitalik Buterin launched ethereum in 2015.\\r\\n...  \n",
       "13  Coinbase NFT\\r\\nRobert Nickelsberg/Getty Image...  \n",
       "14  Blockchain technology has emerged as a revolut...  \n",
       "15  At least it will take heat off the 10,000 bitc...  \n",
       "16  It’s a big day for the Amazon of the decentral...  \n",
       "17  Representations of cryptocurrencies Bitcoin, E...  \n",
       "18  By Reuters Staff\\r\\nOct 1 (Reuters) - Bitcoin ...  \n",
       "19  Ive always been vexed by the question of how t...  \n",
       "20  A representation of cryptocurrency Bitcoin is ...  \n",
       "21  A representation of virtual currency bitcoin i...  \n",
       "22  A representation of the virtual cryptocurrency...  \n",
       "23  Bitcoin, Ethereum and other cryptocurrencies d...  \n",
       "24  NFT art could be a new way to spend and make m...  \n",
       "25  According to founder Vitalik Buterin, the Ethe...  \n",
       "26  Everybody's heard of cryptocurrency these days...  \n",
       "27  Ive been on the sidelines with cryptocurrencie...  \n",
       "28  Twitter will now allow people to tip their fav...  \n",
       "29  NFT art could be a new way to spend and make m...  \n",
       "..                                                ...  \n",
       "70  Through the Next Generation Internet (NGI) ini...  \n",
       "71  There have been some high profile errors on De...  \n",
       "72  Castle Craig Hospital provides treatment for p...  \n",
       "73  By the time Sonic the Hedgehog 2 rolls into th...  \n",
       "74  China on Friday reiterated its crackdown on cr...  \n",
       "75  If you're like most of the world, you leave cr...  \n",
       "76  Richard is senior editor at The New Stack and ...  \n",
       "77  Paolo Ardoino was on the front lines of one of...  \n",
       "78  Everybody has a side hustle these days. With s...  \n",
       "79  Bitcoin and Ethereum\\r\\nNurPhoto / Getty Image...  \n",
       "80  TikTok music star Bella Poarch\\r\\nJason Kempin...  \n",
       "81  Mike Novogratz is one of the most high-profile...  \n",
       "82  Last May, the Chinese governmentbanned the cou...  \n",
       "83  September has been a tough month for cryptocur...  \n",
       "84  A logo of DBS is pictured outside an office in...  \n",
       "85  NFTS (Non-Fungible Tokens) are an environmenta...  \n",
       "86  Lindsay Lohan has stepped into the NFT game, i...  \n",
       "87  Holders of litecoin enjoyed a short-lived, 20%...  \n",
       "88  A non-fungible token (NFT) marketplace has int...  \n",
       "89  AMC CEO Adam Aron. Amy Sussman/FilmMagic\\r\\nAm...  \n",
       "90  BEIJING -- Chinas central bank on Friday decla...  \n",
       "91  Bitcoin (CRYPTO: BTC), Ethereum's (CRYPTO: ETH...  \n",
       "92  Edward Smith/Getty Images\\r\\nInvesco confirmed...  \n",
       "93  Crypto\\r\\nBarcroft Media\\r\\nThe cryptocurrency...  \n",
       "94  Jordan Mansfield /Getty Images\\r\\n<ul><li>Bitc...  \n",
       "95  Twitter users from the US (except Hawaii and N...  \n",
       "96  If you were serious about this, you'd ask the ...  \n",
       "97  AMC Entertainment Holdings CEO Adam Aron tweet...  \n",
       "98  Oh, what a world: TikTok is now embracing the ...  \n",
       "99  As the world's second-largest cryptocurrency, ...  \n",
       "\n",
       "[100 rows x 6 columns]>"
      ]
     },
     "execution_count": 209,
     "metadata": {},
     "output_type": "execute_result"
    }
   ],
   "source": [
    "# Describe the Ethereum Sentiment\n",
    "Ethereum_df.describe"
   ]
  },
  {
   "cell_type": "code",
   "execution_count": 210,
   "metadata": {
    "tags": []
   },
   "outputs": [
    {
     "ename": "NameError",
     "evalue": "name 'Bitcoin_df' is not defined",
     "output_type": "error",
     "traceback": [
      "\u001b[0;31m---------------------------------------------------------------------------\u001b[0m",
      "\u001b[0;31mNameError\u001b[0m                                 Traceback (most recent call last)",
      "\u001b[0;32m<ipython-input-210-5f9afe19802d>\u001b[0m in \u001b[0;36m<module>\u001b[0;34m\u001b[0m\n\u001b[0;32m----> 1\u001b[0;31m \u001b[0mBitcoinCont\u001b[0m\u001b[0;34m=\u001b[0m\u001b[0mBitcoin_df\u001b[0m\u001b[0;34m[\u001b[0m\u001b[0;34m'content'\u001b[0m\u001b[0;34m]\u001b[0m\u001b[0;34m\u001b[0m\u001b[0;34m\u001b[0m\u001b[0m\n\u001b[0m\u001b[1;32m      2\u001b[0m \u001b[0msent_tokenize\u001b[0m\u001b[0;34m(\u001b[0m\u001b[0mBitcoinCont\u001b[0m\u001b[0;34m[\u001b[0m\u001b[0;36m1\u001b[0m\u001b[0;34m]\u001b[0m\u001b[0;34m)\u001b[0m\u001b[0;34m\u001b[0m\u001b[0;34m\u001b[0m\u001b[0m\n",
      "\u001b[0;31mNameError\u001b[0m: name 'Bitcoin_df' is not defined"
     ]
    }
   ],
   "source": [
    "BitcoinCont=Bitcoin_df['content']\n",
    "sent_tokenize(BitcoinCont[1])"
   ]
  },
  {
   "cell_type": "markdown",
   "metadata": {
    "tags": []
   },
   "source": [
    "### Questions:\n",
    "\n",
    "Q: Which coin had the highest mean positive score?\n",
    "\n",
    "A: Ethereum\n",
    "\n",
    "Q: Which coin had the highest compound score?\n",
    "\n",
    "A: Ethereum\n",
    "\n",
    "Q. Which coin had the highest positive score?\n",
    "\n",
    "A: Ethereum"
   ]
  },
  {
   "cell_type": "markdown",
   "metadata": {},
   "source": [
    "---"
   ]
  },
  {
   "cell_type": "markdown",
   "metadata": {
    "tags": []
   },
   "source": [
    "## 2. Natural Language Processing\n",
    "---\n",
    "###   Tokenizer\n",
    "\n",
    "In this section, you will use NLTK and Python to tokenize the text for each coin. Be sure to:\n",
    "1. Lowercase each word.\n",
    "2. Remove Punctuation.\n",
    "3. Remove Stopwords."
   ]
  },
  {
   "cell_type": "code",
   "execution_count": 211,
   "metadata": {
    "tags": []
   },
   "outputs": [],
   "source": [
    "from nltk.tokenize import word_tokenize, sent_tokenize\n",
    "from nltk.corpus import stopwords\n",
    "from nltk.stem import WordNetLemmatizer, PorterStemmer\n",
    "from string import punctuation\n",
    "import re"
   ]
  },
  {
   "cell_type": "code",
   "execution_count": 223,
   "metadata": {
    "tags": []
   },
   "outputs": [
    {
     "name": "stderr",
     "output_type": "stream",
     "text": [
      "[nltk_data] Downloading package stopwords to\n",
      "[nltk_data]     /Users/manoloserrano/nltk_data...\n",
      "[nltk_data]   Package stopwords is already up-to-date!\n"
     ]
    }
   ],
   "source": [
    "# Instantiate the lemmatizer\n",
    "lemmatizer = WordNetLemmatizer()\n",
    "nltk.download('stopwords')\n",
    "# Create a list of stopwords\n",
    "words = vectorizer.get_feature_names()\n",
    "sw = set(stopwords.words('english'))\n",
    "first_result = [word.lower() for word in words if word.lower() not in sw]\n",
    "\n",
    "# Expand the default stopwords list if necessary\n"
   ]
  },
  {
   "cell_type": "markdown",
   "metadata": {
    "tags": []
   },
   "source": []
  },
  {
   "cell_type": "code",
   "execution_count": null,
   "metadata": {},
   "outputs": [],
   "source": []
  },
  {
   "cell_type": "code",
   "execution_count": 214,
   "metadata": {
    "tags": []
   },
   "outputs": [
    {
     "name": "stdout",
     "output_type": "stream",
     "text": [
      "['wont', 'stick', 'bitcoin', 'youre', 'determined', 'pay', 'movie', 'ticket', 'cryptocurrency', 'amc', 'chief', 'adam', 'aron', 'ha', 'revealed', 'theater', 'chain', 'also', 'accept', 'ethereum', 'litecoin', 'bi', 'char']\n"
     ]
    }
   ],
   "source": [
    "# Complete the tokenizer function\n",
    "Bitcoin_content=Bitcoin_headlines['articles'][0]\n",
    "article=Bitcoin_content['content']\n",
    "    # Remove the punctuation from text\n",
    "def process_text(article):\n",
    "    sw = set(stopwords.words('english'))\n",
    "    regex = re.compile(\"[^a-zA-Z ]\")\n",
    "    re_clean = regex.sub('', article)\n",
    "    words = word_tokenize(re_clean)\n",
    "    lem = [lemmatizer.lemmatize(word) for word in words]\n",
    "    output = [word.lower() for word in lem if word.lower() not in sw]\n",
    "    return output\n",
    "\n",
    "\n",
    "processed = process_text(article)\n",
    "print(processed)\n",
    "    # Create a tokenized list of the words\n",
    "    \n",
    "    \n",
    "    # Lemmatize words into root words\n",
    "\n",
    "   \n",
    "    # Convert the words to lowercase\n",
    "    \n",
    "    \n",
    "    # Remove the stop words\n",
    "    \n",
    "    \n",
    "    "
   ]
  },
  {
   "cell_type": "code",
   "execution_count": 228,
   "metadata": {},
   "outputs": [
    {
     "data": {
      "text/plain": [
       "\"You won't have to stick to Bitcoin if you're determined to pay for your movie ticket with cryptocurrency. AMC chief Adam Aron has revealed his theater chain will also accept Ethereum, Litecoin and Bi… [+1198 chars]\""
      ]
     },
     "execution_count": 228,
     "metadata": {},
     "output_type": "execute_result"
    }
   ],
   "source": [
    "# Create a new tokens column for Bitcoin\n",
    "article"
   ]
  },
  {
   "cell_type": "code",
   "execution_count": 216,
   "metadata": {},
   "outputs": [],
   "source": [
    "# Create a new tokens column for Ethereum\n"
   ]
  },
  {
   "cell_type": "markdown",
   "metadata": {},
   "source": [
    "---"
   ]
  },
  {
   "cell_type": "markdown",
   "metadata": {},
   "source": [
    "### NGrams and Frequency Analysis\n",
    "\n",
    "In this section you will look at the ngrams and word frequency for each coin. \n",
    "\n",
    "1. Use NLTK to produce the n-grams for N = 2. \n",
    "2. List the top 10 words for each coin. "
   ]
  },
  {
   "cell_type": "code",
   "execution_count": 217,
   "metadata": {},
   "outputs": [],
   "source": [
    "from collections import Counter\n",
    "from nltk import ngrams"
   ]
  },
  {
   "cell_type": "code",
   "execution_count": 218,
   "metadata": {},
   "outputs": [
    {
     "ename": "NameError",
     "evalue": "name 'n' is not defined",
     "output_type": "error",
     "traceback": [
      "\u001b[0;31m---------------------------------------------------------------------------\u001b[0m",
      "\u001b[0;31mNameError\u001b[0m                                 Traceback (most recent call last)",
      "\u001b[0;32m<ipython-input-218-5192ab478110>\u001b[0m in \u001b[0;36m<module>\u001b[0;34m\u001b[0m\n\u001b[1;32m      1\u001b[0m \u001b[0;31m# Generate the Bitcoin N-grams where N=2\u001b[0m\u001b[0;34m\u001b[0m\u001b[0;34m\u001b[0m\u001b[0;34m\u001b[0m\u001b[0m\n\u001b[0;32m----> 2\u001b[0;31m \u001b[0mbigram_counts\u001b[0m \u001b[0;34m=\u001b[0m \u001b[0mCounter\u001b[0m\u001b[0;34m(\u001b[0m\u001b[0mngrams\u001b[0m\u001b[0;34m(\u001b[0m\u001b[0mprocessed\u001b[0m\u001b[0;34m,\u001b[0m \u001b[0mn\u001b[0m\u001b[0;34m-\u001b[0m\u001b[0;36m2\u001b[0m\u001b[0;34m)\u001b[0m\u001b[0;34m)\u001b[0m\u001b[0;34m\u001b[0m\u001b[0;34m\u001b[0m\u001b[0m\n\u001b[0m\u001b[1;32m      3\u001b[0m \u001b[0mprint\u001b[0m\u001b[0;34m(\u001b[0m\u001b[0mdict\u001b[0m\u001b[0;34m(\u001b[0m\u001b[0mbigram_counts\u001b[0m\u001b[0;34m)\u001b[0m\u001b[0;34m)\u001b[0m\u001b[0;34m\u001b[0m\u001b[0;34m\u001b[0m\u001b[0m\n",
      "\u001b[0;31mNameError\u001b[0m: name 'n' is not defined"
     ]
    }
   ],
   "source": [
    "# Generate the Bitcoin N-grams where N=2\n",
    "bigram_counts = Counter(ngrams(processed, n-2))\n",
    "print(dict(bigram_counts))"
   ]
  },
  {
   "cell_type": "code",
   "execution_count": 219,
   "metadata": {},
   "outputs": [],
   "source": [
    "# Generate the Ethereum N-grams where N=2\n",
    "# YOUR CODE HERE!"
   ]
  },
  {
   "cell_type": "code",
   "execution_count": 220,
   "metadata": {},
   "outputs": [],
   "source": [
    "# Function token_count generates the top 10 words for a given coin\n",
    "def token_count(tokens, N=3):\n",
    "    \"\"\"Returns the top N tokens from the frequency count\"\"\"\n",
    "    return Counter(tokens).most_common(N)"
   ]
  },
  {
   "cell_type": "code",
   "execution_count": 221,
   "metadata": {},
   "outputs": [],
   "source": [
    "# Use token_count to get the top 10 words for Bitcoin\n",
    "# YOUR CODE HERE!"
   ]
  },
  {
   "cell_type": "code",
   "execution_count": 222,
   "metadata": {},
   "outputs": [],
   "source": [
    "# Use token_count to get the top 10 words for Ethereum\n",
    "# YOUR CODE HERE!"
   ]
  },
  {
   "cell_type": "markdown",
   "metadata": {},
   "source": [
    "---"
   ]
  },
  {
   "cell_type": "markdown",
   "metadata": {},
   "source": [
    "### Word Clouds\n",
    "\n",
    "In this section, you will generate word clouds for each coin to summarize the news for each coin"
   ]
  },
  {
   "cell_type": "code",
   "execution_count": 188,
   "metadata": {},
   "outputs": [],
   "source": [
    "from wordcloud import WordCloud\n",
    "import matplotlib.pyplot as plt\n",
    "plt.style.use('seaborn-whitegrid')\n",
    "import matplotlib as mpl\n",
    "mpl.rcParams['figure.figsize'] = [20.0, 10.0]\n",
    "\n",
    "\n"
   ]
  },
  {
   "cell_type": "code",
   "execution_count": 189,
   "metadata": {},
   "outputs": [
    {
     "data": {
      "text/html": [
       "<div>\n",
       "<style scoped>\n",
       "    .dataframe tbody tr th:only-of-type {\n",
       "        vertical-align: middle;\n",
       "    }\n",
       "\n",
       "    .dataframe tbody tr th {\n",
       "        vertical-align: top;\n",
       "    }\n",
       "\n",
       "    .dataframe thead th {\n",
       "        text-align: right;\n",
       "    }\n",
       "</style>\n",
       "<table border=\"1\" class=\"dataframe\">\n",
       "  <thead>\n",
       "    <tr style=\"text-align: right;\">\n",
       "      <th></th>\n",
       "      <th>Word</th>\n",
       "      <th>Frequency</th>\n",
       "    </tr>\n",
       "  </thead>\n",
       "  <tbody>\n",
       "    <tr>\n",
       "      <th>0</th>\n",
       "      <td>articles</td>\n",
       "      <td>1.0</td>\n",
       "    </tr>\n",
       "    <tr>\n",
       "      <th>1</th>\n",
       "      <td>status</td>\n",
       "      <td>1.0</td>\n",
       "    </tr>\n",
       "    <tr>\n",
       "      <th>2</th>\n",
       "      <td>totalresults</td>\n",
       "      <td>1.0</td>\n",
       "    </tr>\n",
       "  </tbody>\n",
       "</table>\n",
       "</div>"
      ],
      "text/plain": [
       "           Word  Frequency\n",
       "0      articles        1.0\n",
       "1        status        1.0\n",
       "2  totalresults        1.0"
      ]
     },
     "execution_count": 189,
     "metadata": {},
     "output_type": "execute_result"
    }
   ],
   "source": [
    "Bitcoin_news_df"
   ]
  },
  {
   "cell_type": "code",
   "execution_count": 190,
   "metadata": {},
   "outputs": [
    {
     "ename": "KeyError",
     "evalue": "'Frequency'",
     "output_type": "error",
     "traceback": [
      "\u001b[0;31m---------------------------------------------------------------------------\u001b[0m",
      "\u001b[0;31mKeyError\u001b[0m                                  Traceback (most recent call last)",
      "\u001b[0;32m<ipython-input-190-d42f373c6ed0>\u001b[0m in \u001b[0;36m<module>\u001b[0;34m\u001b[0m\n\u001b[1;32m     14\u001b[0m \u001b[0;34m\u001b[0m\u001b[0m\n\u001b[1;32m     15\u001b[0m top_words=Bitcoin_headlines[\n\u001b[0;32m---> 16\u001b[0;31m     \u001b[0;34m(\u001b[0m\u001b[0mBitcoin_headlines\u001b[0m\u001b[0;34m[\u001b[0m\u001b[0;34m\"Frequency\"\u001b[0m\u001b[0;34m]\u001b[0m\u001b[0;34m>=\u001b[0m\u001b[0;36m10\u001b[0m\u001b[0;34m)\u001b[0m \u001b[0;34m&\u001b[0m \u001b[0;34m(\u001b[0m\u001b[0mBitcoin_headlines\u001b[0m\u001b[0;34m[\u001b[0m\u001b[0;34m'Frequency'\u001b[0m\u001b[0;34m]\u001b[0m\u001b[0;34m<\u001b[0m\u001b[0;34m+\u001b[0m\u001b[0;36m30\u001b[0m\u001b[0;34m)\u001b[0m\u001b[0;34m\u001b[0m\u001b[0;34m\u001b[0m\u001b[0m\n\u001b[0m\u001b[1;32m     17\u001b[0m ]\n\u001b[1;32m     18\u001b[0m \u001b[0;34m\u001b[0m\u001b[0m\n",
      "\u001b[0;31mKeyError\u001b[0m: 'Frequency'"
     ]
    }
   ],
   "source": [
    "# Generate the Bitcoin word cloud\n",
    "from sklearn.feature_extraction.text import CountVectorizer\n",
    "from sklearn.feature_extraction.text import TfidfVectorizer\n",
    "\n",
    "vectorizer = TfidfVectorizer(stop_words='english')\n",
    "X = vectorizer.fit_transform(Bitcoin_headlines)\n",
    "\n",
    "Bitcoin_news_df = pd.DataFrame(\n",
    "    list(zip(vectorizer.get_feature_names(), np.ravel(X.sum(axis=0)))),\n",
    "    columns=[\"Word\", \"Frequency\"],\n",
    ")\n",
    "\n",
    "#Bitcoin_news_df = Bitcoin_news_df.sort_values(by=[\"Frequency\"], ascending=False)\n",
    "\n",
    "top_words=Bitcoin_headlines[\n",
    "    (Bitcoin_headlines[\"Frequency\"]>=10) & (Bitcoin_headlines['Frequency']<+30)\n",
    "]\n",
    "\n",
    "\n",
    "terms_list = str(top_words['Word'].tolist())\n",
    "\n",
    "wordcloud = WordCloud(colormap=\"RdYlBu\").generate(terms_list)\n",
    "plt.imshow(wordcloud)\n",
    "plt.axis(\"off\")\n",
    "fontdict = {'fontsize': 20, 'fontweight' : 'bold'}\n",
    "plt.title('Bitcoin Word Cloud', fontdict=fontdict)\n",
    "plt.show"
   ]
  },
  {
   "cell_type": "code",
   "execution_count": 191,
   "metadata": {},
   "outputs": [],
   "source": [
    "# Generate the Ethereum word cloud\n",
    "# YOUR CODE HERE!"
   ]
  },
  {
   "cell_type": "markdown",
   "metadata": {},
   "source": [
    "---\n",
    "## 3. Named Entity Recognition\n",
    "\n",
    "In this section, you will build a named entity recognition model for both Bitcoin and Ethereum, then visualize the tags using SpaCy."
   ]
  },
  {
   "cell_type": "code",
   "execution_count": 192,
   "metadata": {},
   "outputs": [
    {
     "ename": "ModuleNotFoundError",
     "evalue": "No module named 'spacy'",
     "output_type": "error",
     "traceback": [
      "\u001b[0;31m---------------------------------------------------------------------------\u001b[0m",
      "\u001b[0;31mModuleNotFoundError\u001b[0m                       Traceback (most recent call last)",
      "\u001b[0;32m<ipython-input-192-6f70af4282c0>\u001b[0m in \u001b[0;36m<module>\u001b[0;34m\u001b[0m\n\u001b[0;32m----> 1\u001b[0;31m \u001b[0;32mimport\u001b[0m \u001b[0mspacy\u001b[0m\u001b[0;34m\u001b[0m\u001b[0;34m\u001b[0m\u001b[0m\n\u001b[0m\u001b[1;32m      2\u001b[0m \u001b[0;32mfrom\u001b[0m \u001b[0mspacy\u001b[0m \u001b[0;32mimport\u001b[0m \u001b[0mdisplacy\u001b[0m\u001b[0;34m\u001b[0m\u001b[0;34m\u001b[0m\u001b[0m\n",
      "\u001b[0;31mModuleNotFoundError\u001b[0m: No module named 'spacy'"
     ]
    }
   ],
   "source": [
    "import spacy\n",
    "from spacy import displacy"
   ]
  },
  {
   "cell_type": "code",
   "execution_count": 193,
   "metadata": {},
   "outputs": [],
   "source": [
    "# Download the language model for SpaCy\n",
    "# !python -m spacy download en_core_web_sm"
   ]
  },
  {
   "cell_type": "code",
   "execution_count": 194,
   "metadata": {},
   "outputs": [
    {
     "ename": "NameError",
     "evalue": "name 'spacy' is not defined",
     "output_type": "error",
     "traceback": [
      "\u001b[0;31m---------------------------------------------------------------------------\u001b[0m",
      "\u001b[0;31mNameError\u001b[0m                                 Traceback (most recent call last)",
      "\u001b[0;32m<ipython-input-194-298f4788b60f>\u001b[0m in \u001b[0;36m<module>\u001b[0;34m\u001b[0m\n\u001b[1;32m      1\u001b[0m \u001b[0;31m# Load the spaCy model\u001b[0m\u001b[0;34m\u001b[0m\u001b[0;34m\u001b[0m\u001b[0;34m\u001b[0m\u001b[0m\n\u001b[0;32m----> 2\u001b[0;31m \u001b[0mnlp\u001b[0m \u001b[0;34m=\u001b[0m \u001b[0mspacy\u001b[0m\u001b[0;34m.\u001b[0m\u001b[0mload\u001b[0m\u001b[0;34m(\u001b[0m\u001b[0;34m'en_core_web_sm'\u001b[0m\u001b[0;34m)\u001b[0m\u001b[0;34m\u001b[0m\u001b[0;34m\u001b[0m\u001b[0m\n\u001b[0m",
      "\u001b[0;31mNameError\u001b[0m: name 'spacy' is not defined"
     ]
    }
   ],
   "source": [
    "# Load the spaCy model\n",
    "nlp = spacy.load('en_core_web_sm')"
   ]
  },
  {
   "cell_type": "markdown",
   "metadata": {},
   "source": [
    "---\n",
    "### Bitcoin NER"
   ]
  },
  {
   "cell_type": "code",
   "execution_count": 195,
   "metadata": {},
   "outputs": [],
   "source": [
    "# Concatenate all of the Bitcoin text together\n",
    "# YOUR CODE HERE!"
   ]
  },
  {
   "cell_type": "code",
   "execution_count": 28,
   "metadata": {},
   "outputs": [],
   "source": [
    "# Run the NER processor on all of the text\n",
    "# YOUR CODE HERE!\n",
    "\n",
    "# Add a title to the document\n",
    "# YOUR CODE HERE!"
   ]
  },
  {
   "cell_type": "code",
   "execution_count": 29,
   "metadata": {},
   "outputs": [],
   "source": [
    "# Render the visualization\n",
    "# YOUR CODE HERE!"
   ]
  },
  {
   "cell_type": "code",
   "execution_count": 30,
   "metadata": {},
   "outputs": [],
   "source": [
    "# List all Entities\n",
    "# YOUR CODE HERE!"
   ]
  },
  {
   "cell_type": "markdown",
   "metadata": {},
   "source": [
    "---"
   ]
  },
  {
   "cell_type": "markdown",
   "metadata": {},
   "source": [
    "### Ethereum NER"
   ]
  },
  {
   "cell_type": "code",
   "execution_count": 31,
   "metadata": {},
   "outputs": [],
   "source": [
    "# Concatenate all of the Ethereum text together\n",
    "# YOUR CODE HERE!"
   ]
  },
  {
   "cell_type": "code",
   "execution_count": 32,
   "metadata": {},
   "outputs": [],
   "source": [
    "# Run the NER processor on all of the text\n",
    "# YOUR CODE HERE!\n",
    "\n",
    "# Add a title to the document\n",
    "# YOUR CODE HERE!"
   ]
  },
  {
   "cell_type": "code",
   "execution_count": 33,
   "metadata": {},
   "outputs": [],
   "source": [
    "# Render the visualization\n",
    "# YOUR CODE HERE!"
   ]
  },
  {
   "cell_type": "code",
   "execution_count": 34,
   "metadata": {},
   "outputs": [],
   "source": [
    "# List all Entities\n",
    "# YOUR CODE HERE!"
   ]
  },
  {
   "cell_type": "markdown",
   "metadata": {},
   "source": [
    "---"
   ]
  }
 ],
 "metadata": {
  "file_extension": ".py",
  "kernelspec": {
   "display_name": "Python [conda env:pyvizenv] *",
   "language": "python",
   "name": "conda-env-pyvizenv-py"
  },
  "language_info": {
   "codemirror_mode": {
    "name": "ipython",
    "version": 3
   },
   "file_extension": ".py",
   "mimetype": "text/x-python",
   "name": "python",
   "nbconvert_exporter": "python",
   "pygments_lexer": "ipython3",
   "version": "3.7.7"
  },
  "mimetype": "text/x-python",
  "name": "python",
  "npconvert_exporter": "python",
  "pygments_lexer": "ipython3",
  "version": 3
 },
 "nbformat": 4,
 "nbformat_minor": 4
}
