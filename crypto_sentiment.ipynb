{
 "cells": [
  {
   "cell_type": "markdown",
   "metadata": {},
   "source": [
    "# Unit 12 - Tales from the Crypto\n",
    "\n",
    "---\n"
   ]
  },
  {
   "cell_type": "markdown",
   "metadata": {},
   "source": [
    "## 1. Sentiment Analysis\n",
    "\n",
    "Use the [newsapi](https://newsapi.org/) to pull the latest news articles for Bitcoin and Ethereum and create a DataFrame of sentiment scores for each coin.\n",
    "\n",
    "Use descriptive statistics to answer the following questions:\n",
    "1. Which coin had the highest mean positive score?\n",
    "2. Which coin had the highest negative score?\n",
    "3. Which coin had the highest positive score?"
   ]
  },
  {
   "cell_type": "code",
   "execution_count": 307,
   "metadata": {},
   "outputs": [
    {
     "name": "stderr",
     "output_type": "stream",
     "text": [
      "[nltk_data] Downloading package vader_lexicon to\n",
      "[nltk_data]     /Users/manoloserrano/nltk_data...\n",
      "[nltk_data]   Package vader_lexicon is already up-to-date!\n"
     ]
    }
   ],
   "source": [
    "# Initial imports\n",
    "import os\n",
    "import pandas as pd\n",
    "import numpy as np\n",
    "from dotenv import load_dotenv, find_dotenv\n",
    "import nltk as nltk\n",
    "nltk.download('vader_lexicon')\n",
    "from nltk.sentiment.vader import SentimentIntensityAnalyzer\n",
    "analyzer = SentimentIntensityAnalyzer()\n",
    "\n",
    "%matplotlib inline"
   ]
  },
  {
   "cell_type": "code",
   "execution_count": 308,
   "metadata": {},
   "outputs": [],
   "source": [
    "# Read your api key environment variable\n",
    "load_dotenv(find_dotenv())\n",
    "NEWS_API_KEY= os.environ.get('NEWS_API_KEY')\n",
    "\n"
   ]
  },
  {
   "cell_type": "code",
   "execution_count": 309,
   "metadata": {},
   "outputs": [],
   "source": [
    "# Create a newsapi client\n",
    "from newsapi import NewsApiClient\n",
    "\n",
    "api=NewsApiClient(api_key=NEWS_API_KEY)\n",
    "\n"
   ]
  },
  {
   "cell_type": "code",
   "execution_count": 310,
   "metadata": {
    "tags": []
   },
   "outputs": [
    {
     "name": "stdout",
     "output_type": "stream",
     "text": [
      "Total articles about Bitcoin:6786\n"
     ]
    },
    {
     "data": {
      "text/plain": [
       "{'source': {'id': 'engadget', 'name': 'Engadget'},\n",
       " 'author': 'Jon Fingas',\n",
       " 'title': 'AMC theaters will accept cryptocurrencies beyond Bitcoin',\n",
       " 'description': \"You won't have to stick to Bitcoin if you're determined to pay for your movie ticket with cryptocurrency. AMC chief Adam Aron has revealed his theater chain will also accept Ethereum, Litecoin and Bitcoin Cash when crypto payments are available. He didn't hav…\",\n",
       " 'url': 'https://www.engadget.com/amc-theaters-accept-ethereum-litecoin-bitcoin-cash-132642183.html',\n",
       " 'urlToImage': 'https://s.yimg.com/os/creatr-uploaded-images/2021-09/4a01cb80-16eb-11ec-abfe-c7b840dd48ca',\n",
       " 'publishedAt': '2021-09-16T13:26:42Z',\n",
       " 'content': \"You won't have to stick to Bitcoin if you're determined to pay for your movie ticket with cryptocurrency. AMC chief Adam Aron has revealed his theater chain will also accept Ethereum, Litecoin and Bi… [+1198 chars]\"}"
      ]
     },
     "execution_count": 310,
     "metadata": {},
     "output_type": "execute_result"
    }
   ],
   "source": [
    "# Fetch the Bitcoin news articles\n",
    "Bitcoin_headlines=api.get_everything(\n",
    "    q='bitcoin',\n",
    "    language='en',\n",
    "    page_size=100,\n",
    "    sort_by='relevancy'\n",
    " )\n",
    "print(f\"Total articles about Bitcoin:{Bitcoin_headlines['totalResults']}\")\n",
    "Bitcoin_headlines['articles'][0]"
   ]
  },
  {
   "cell_type": "code",
   "execution_count": 311,
   "metadata": {},
   "outputs": [
    {
     "name": "stdout",
     "output_type": "stream",
     "text": [
      "Total articles about Chainlink:129\n"
     ]
    },
    {
     "data": {
      "text/plain": [
       "{'source': {'id': None, 'name': 'Investorplace.com'},\n",
       " 'author': 'Investor Place',\n",
       " 'title': '7 Best Cryptos to Buy During Altcoin Season',\n",
       " 'description': 'I’ve been on the sidelines with cryptocurrencies, but it’s an asset class that is fascinating for many reasons. For many crypto investors, the conversation about best cryptos begins and ends with\\xa0Bitcoin\\xa0(CCC:BTC-USD). However, it’s becoming increasingly appa…',\n",
       " 'url': 'https://investorplace.com/2021/09/7-best-cryptos-to-buy-during-altcoin-season/?utm_source=due&#038;utm_medium=editorial',\n",
       " 'urlToImage': 'https://images.readwrite.com/wp-content/uploads/2021/09/Best-Cryptos-to-Buy-During-Altcoin-Season.jpg',\n",
       " 'publishedAt': '2021-09-20T15:28:43Z',\n",
       " 'content': 'Ive been on the sidelines with cryptocurrencies, but its an asset class that is fascinating for many reasons. For many crypto investors, the conversation about best cryptos begins and ends with\\xa0Bitco… [+8204 chars]'}"
      ]
     },
     "execution_count": 311,
     "metadata": {},
     "output_type": "execute_result"
    }
   ],
   "source": [
    "# Fetch the Bitcoin news articles\n",
    "Chainlink_headlines=api.get_everything(\n",
    "    q='chainlink',\n",
    "    language='en',\n",
    "    page_size=100,\n",
    "    sort_by='relevancy'\n",
    " )\n",
    "print(f\"Total articles about Chainlink:{Chainlink_headlines['totalResults']}\")\n",
    "Chainlink_headlines['articles'][0]"
   ]
  },
  {
   "cell_type": "code",
   "execution_count": 312,
   "metadata": {
    "tags": []
   },
   "outputs": [
    {
     "name": "stdout",
     "output_type": "stream",
     "text": [
      "Total articles about Ethereum:2670\n"
     ]
    },
    {
     "data": {
      "text/plain": [
       "{'source': {'id': 'the-verge', 'name': 'The Verge'},\n",
       " 'author': 'Kim Lyons',\n",
       " 'title': 'China’s central bank bans cryptocurrency transactions to avoid ‘risks’',\n",
       " 'description': 'China’s central bank on Friday said cryptocurrency transactions in the country are illegal, banning all transactions. It said cryptocurrencies like bitcoin and Ethereum are not legal tender and can’t be circulated.',\n",
       " 'url': 'https://www.theverge.com/2021/9/24/22691472/china-central-bank-cryptocurrency-illegal-bitcoin',\n",
       " 'urlToImage': 'https://cdn.vox-cdn.com/thumbor/mde_l3lUC4muDPEFG7LYrUz0O3g=/0x146:2040x1214/fit-in/1200x630/cdn.vox-cdn.com/uploads/chorus_asset/file/8921023/acastro_bitcoin_2.jpg',\n",
       " 'publishedAt': '2021-09-24T16:22:55Z',\n",
       " 'content': 'Its the countrys latest crackdown on digital currencies\\r\\nIllustration by Alex Castro / The Verge\\r\\nThe Peoples Bank of China, the countrys central bank, said Friday that cryptocurrency transactions ar… [+1461 chars]'}"
      ]
     },
     "execution_count": 312,
     "metadata": {},
     "output_type": "execute_result"
    }
   ],
   "source": [
    "# Fetch the Ethereum news articles\n",
    "Ethereum_headlines=api.get_everything(\n",
    "    q='ethereum',\n",
    "    language='en',\n",
    "    page_size=100,\n",
    "    sort_by='relevancy'\n",
    ")\n",
    "print(f\"Total articles about Ethereum:{Ethereum_headlines['totalResults']}\")\n",
    "Ethereum_headlines['articles'][0]"
   ]
  },
  {
   "cell_type": "code",
   "execution_count": null,
   "metadata": {
    "tags": []
   },
   "outputs": [],
   "source": []
  },
  {
   "cell_type": "code",
   "execution_count": null,
   "metadata": {},
   "outputs": [],
   "source": []
  },
  {
   "cell_type": "code",
   "execution_count": null,
   "metadata": {
    "tags": []
   },
   "outputs": [],
   "source": []
  },
  {
   "cell_type": "code",
   "execution_count": 313,
   "metadata": {
    "tags": []
   },
   "outputs": [
    {
     "data": {
      "text/html": [
       "<div>\n",
       "<style scoped>\n",
       "    .dataframe tbody tr th:only-of-type {\n",
       "        vertical-align: middle;\n",
       "    }\n",
       "\n",
       "    .dataframe tbody tr th {\n",
       "        vertical-align: top;\n",
       "    }\n",
       "\n",
       "    .dataframe thead th {\n",
       "        text-align: right;\n",
       "    }\n",
       "</style>\n",
       "<table border=\"1\" class=\"dataframe\">\n",
       "  <thead>\n",
       "    <tr style=\"text-align: right;\">\n",
       "      <th></th>\n",
       "      <th>compound</th>\n",
       "      <th>date</th>\n",
       "      <th>negative</th>\n",
       "      <th>neutral</th>\n",
       "      <th>positive</th>\n",
       "      <th>text</th>\n",
       "    </tr>\n",
       "  </thead>\n",
       "  <tbody>\n",
       "    <tr>\n",
       "      <th>0</th>\n",
       "      <td>0.5574</td>\n",
       "      <td>2021-09-16</td>\n",
       "      <td>0.036</td>\n",
       "      <td>0.838</td>\n",
       "      <td>0.127</td>\n",
       "      <td>You won't have to stick to Bitcoin if you're d...</td>\n",
       "    </tr>\n",
       "    <tr>\n",
       "      <th>1</th>\n",
       "      <td>0.0000</td>\n",
       "      <td>2021-09-23</td>\n",
       "      <td>0.000</td>\n",
       "      <td>1.000</td>\n",
       "      <td>0.000</td>\n",
       "      <td>Four months after Twitter first introduced in-...</td>\n",
       "    </tr>\n",
       "    <tr>\n",
       "      <th>2</th>\n",
       "      <td>0.0000</td>\n",
       "      <td>2021-09-25</td>\n",
       "      <td>0.000</td>\n",
       "      <td>1.000</td>\n",
       "      <td>0.000</td>\n",
       "      <td>Bitcoin and similar blockchain-based cryptos e...</td>\n",
       "    </tr>\n",
       "    <tr>\n",
       "      <th>3</th>\n",
       "      <td>0.3400</td>\n",
       "      <td>2021-10-06</td>\n",
       "      <td>0.000</td>\n",
       "      <td>0.924</td>\n",
       "      <td>0.076</td>\n",
       "      <td>&lt;ul&gt;&lt;li&gt;Bitcoin, in terms of market value, ros...</td>\n",
       "    </tr>\n",
       "    <tr>\n",
       "      <th>4</th>\n",
       "      <td>0.4939</td>\n",
       "      <td>2021-10-06</td>\n",
       "      <td>0.000</td>\n",
       "      <td>0.781</td>\n",
       "      <td>0.219</td>\n",
       "      <td>How high are the chances of Bitcoin sustaining...</td>\n",
       "    </tr>\n",
       "  </tbody>\n",
       "</table>\n",
       "</div>"
      ],
      "text/plain": [
       "   compound        date  negative  neutral  positive  \\\n",
       "0    0.5574  2021-09-16     0.036    0.838     0.127   \n",
       "1    0.0000  2021-09-23     0.000    1.000     0.000   \n",
       "2    0.0000  2021-09-25     0.000    1.000     0.000   \n",
       "3    0.3400  2021-10-06     0.000    0.924     0.076   \n",
       "4    0.4939  2021-10-06     0.000    0.781     0.219   \n",
       "\n",
       "                                                text  \n",
       "0  You won't have to stick to Bitcoin if you're d...  \n",
       "1  Four months after Twitter first introduced in-...  \n",
       "2  Bitcoin and similar blockchain-based cryptos e...  \n",
       "3  <ul><li>Bitcoin, in terms of market value, ros...  \n",
       "4  How high are the chances of Bitcoin sustaining...  "
      ]
     },
     "execution_count": 313,
     "metadata": {},
     "output_type": "execute_result"
    }
   ],
   "source": [
    "# Create the Bitcoin sentiment scores DataFrame\n",
    "\n",
    "Bitcoin_sentiments = []\n",
    "\n",
    "for article in Bitcoin_headlines['articles']:\n",
    "    try:\n",
    "        text = article['content']\n",
    "        date = article['publishedAt'][:10]\n",
    "        sentiment = analyzer.polarity_scores(text)\n",
    "        compound = sentiment[\"compound\"]\n",
    "        pos = sentiment['pos']\n",
    "        neu = sentiment['neu']\n",
    "        neg = sentiment['neg']\n",
    "        \n",
    "        Bitcoin_sentiments.append({\n",
    "            \"text\": text,\n",
    "            \"date\": date,\n",
    "            'compound': compound,\n",
    "            'positive': pos,\n",
    "            'negative': neg,\n",
    "            'neutral' : neu,\n",
    "            \n",
    "        })\n",
    "        \n",
    "    except AttributeError:\n",
    "        pass\n",
    "    \n",
    "bitcoin_df = pd.DataFrame(Bitcoin_sentiments)\n",
    "\n",
    "\n",
    "bitcoin_df.head()"
   ]
  },
  {
   "cell_type": "code",
   "execution_count": 314,
   "metadata": {
    "tags": []
   },
   "outputs": [
    {
     "data": {
      "text/html": [
       "<div>\n",
       "<style scoped>\n",
       "    .dataframe tbody tr th:only-of-type {\n",
       "        vertical-align: middle;\n",
       "    }\n",
       "\n",
       "    .dataframe tbody tr th {\n",
       "        vertical-align: top;\n",
       "    }\n",
       "\n",
       "    .dataframe thead th {\n",
       "        text-align: right;\n",
       "    }\n",
       "</style>\n",
       "<table border=\"1\" class=\"dataframe\">\n",
       "  <thead>\n",
       "    <tr style=\"text-align: right;\">\n",
       "      <th></th>\n",
       "      <th>compound</th>\n",
       "      <th>date</th>\n",
       "      <th>negative</th>\n",
       "      <th>neutral</th>\n",
       "      <th>positive</th>\n",
       "      <th>text</th>\n",
       "    </tr>\n",
       "  </thead>\n",
       "  <tbody>\n",
       "    <tr>\n",
       "      <th>0</th>\n",
       "      <td>0.0000</td>\n",
       "      <td>2021-09-24</td>\n",
       "      <td>0.000</td>\n",
       "      <td>1.000</td>\n",
       "      <td>0.000</td>\n",
       "      <td>Its the countrys latest crackdown on digital c...</td>\n",
       "    </tr>\n",
       "    <tr>\n",
       "      <th>1</th>\n",
       "      <td>0.5574</td>\n",
       "      <td>2021-09-16</td>\n",
       "      <td>0.036</td>\n",
       "      <td>0.838</td>\n",
       "      <td>0.127</td>\n",
       "      <td>You won't have to stick to Bitcoin if you're d...</td>\n",
       "    </tr>\n",
       "    <tr>\n",
       "      <th>2</th>\n",
       "      <td>0.0000</td>\n",
       "      <td>2021-10-14</td>\n",
       "      <td>0.000</td>\n",
       "      <td>1.000</td>\n",
       "      <td>0.000</td>\n",
       "      <td>Mark Cuban has some advice for people who are ...</td>\n",
       "    </tr>\n",
       "    <tr>\n",
       "      <th>3</th>\n",
       "      <td>0.2865</td>\n",
       "      <td>2021-09-16</td>\n",
       "      <td>0.126</td>\n",
       "      <td>0.694</td>\n",
       "      <td>0.180</td>\n",
       "      <td>OpenSea isn't wasting much time after its head...</td>\n",
       "    </tr>\n",
       "    <tr>\n",
       "      <th>4</th>\n",
       "      <td>0.4588</td>\n",
       "      <td>2021-09-22</td>\n",
       "      <td>0.000</td>\n",
       "      <td>0.892</td>\n",
       "      <td>0.108</td>\n",
       "      <td>Robinhood plans to start a cryptocurrency wall...</td>\n",
       "    </tr>\n",
       "  </tbody>\n",
       "</table>\n",
       "</div>"
      ],
      "text/plain": [
       "   compound        date  negative  neutral  positive  \\\n",
       "0    0.0000  2021-09-24     0.000    1.000     0.000   \n",
       "1    0.5574  2021-09-16     0.036    0.838     0.127   \n",
       "2    0.0000  2021-10-14     0.000    1.000     0.000   \n",
       "3    0.2865  2021-09-16     0.126    0.694     0.180   \n",
       "4    0.4588  2021-09-22     0.000    0.892     0.108   \n",
       "\n",
       "                                                text  \n",
       "0  Its the countrys latest crackdown on digital c...  \n",
       "1  You won't have to stick to Bitcoin if you're d...  \n",
       "2  Mark Cuban has some advice for people who are ...  \n",
       "3  OpenSea isn't wasting much time after its head...  \n",
       "4  Robinhood plans to start a cryptocurrency wall...  "
      ]
     },
     "execution_count": 314,
     "metadata": {},
     "output_type": "execute_result"
    }
   ],
   "source": [
    "# Create the Ethereum sentiment scores DataFrame\n",
    "Ethereum_sentiments = []\n",
    "\n",
    "for article in Ethereum_headlines['articles']:\n",
    "    try:\n",
    "        text = article['content']\n",
    "        date = article['publishedAt'][:10]\n",
    "        sentiment = analyzer.polarity_scores(text)\n",
    "        compound = sentiment[\"compound\"]\n",
    "        pos = sentiment['pos']\n",
    "        neu = sentiment['neu']\n",
    "        neg = sentiment['neg']\n",
    "        \n",
    "        Ethereum_sentiments.append({\n",
    "            \"text\": text,\n",
    "            \"date\": date,\n",
    "            'compound': compound,\n",
    "            'positive': pos,\n",
    "            'negative': neg,\n",
    "            'neutral' : neu,\n",
    "            \n",
    "        })\n",
    "        \n",
    "    except AttributeError:\n",
    "        pass\n",
    "    \n",
    "Ethereum_df = pd.DataFrame(Ethereum_sentiments)\n",
    "\n",
    "Ethereum_df.head()"
   ]
  },
  {
   "cell_type": "code",
   "execution_count": 315,
   "metadata": {},
   "outputs": [
    {
     "data": {
      "text/plain": [
       "compound    0.132934\n",
       "negative    0.025370\n",
       "neutral     0.917580\n",
       "positive    0.057070\n",
       "dtype: float64"
      ]
     },
     "execution_count": 315,
     "metadata": {},
     "output_type": "execute_result"
    }
   ],
   "source": [
    "Ethereum_df.mean()"
   ]
  },
  {
   "cell_type": "code",
   "execution_count": 316,
   "metadata": {},
   "outputs": [
    {
     "data": {
      "text/html": [
       "<div>\n",
       "<style scoped>\n",
       "    .dataframe tbody tr th:only-of-type {\n",
       "        vertical-align: middle;\n",
       "    }\n",
       "\n",
       "    .dataframe tbody tr th {\n",
       "        vertical-align: top;\n",
       "    }\n",
       "\n",
       "    .dataframe thead th {\n",
       "        text-align: right;\n",
       "    }\n",
       "</style>\n",
       "<table border=\"1\" class=\"dataframe\">\n",
       "  <thead>\n",
       "    <tr style=\"text-align: right;\">\n",
       "      <th></th>\n",
       "      <th>compound</th>\n",
       "      <th>date</th>\n",
       "      <th>negative</th>\n",
       "      <th>neutral</th>\n",
       "      <th>positive</th>\n",
       "      <th>text</th>\n",
       "    </tr>\n",
       "  </thead>\n",
       "  <tbody>\n",
       "    <tr>\n",
       "      <th>0</th>\n",
       "      <td>0.9413</td>\n",
       "      <td>2021-09-20</td>\n",
       "      <td>0.000</td>\n",
       "      <td>0.692</td>\n",
       "      <td>0.308</td>\n",
       "      <td>Ive been on the sidelines with cryptocurrencie...</td>\n",
       "    </tr>\n",
       "    <tr>\n",
       "      <th>1</th>\n",
       "      <td>-0.6486</td>\n",
       "      <td>2021-10-05</td>\n",
       "      <td>0.178</td>\n",
       "      <td>0.783</td>\n",
       "      <td>0.039</td>\n",
       "      <td>The chief executive of Mars, one of the worlds...</td>\n",
       "    </tr>\n",
       "    <tr>\n",
       "      <th>2</th>\n",
       "      <td>0.0000</td>\n",
       "      <td>2021-09-27</td>\n",
       "      <td>0.000</td>\n",
       "      <td>1.000</td>\n",
       "      <td>0.000</td>\n",
       "      <td>The global digital broker added a decentralize...</td>\n",
       "    </tr>\n",
       "    <tr>\n",
       "      <th>3</th>\n",
       "      <td>-0.6249</td>\n",
       "      <td>2021-09-28</td>\n",
       "      <td>0.150</td>\n",
       "      <td>0.850</td>\n",
       "      <td>0.000</td>\n",
       "      <td>From Gus literally exploding, to Walter White'...</td>\n",
       "    </tr>\n",
       "    <tr>\n",
       "      <th>4</th>\n",
       "      <td>-0.8674</td>\n",
       "      <td>2021-10-13</td>\n",
       "      <td>0.238</td>\n",
       "      <td>0.762</td>\n",
       "      <td>0.000</td>\n",
       "      <td>Blockchains revolutionized fundraising for ope...</td>\n",
       "    </tr>\n",
       "  </tbody>\n",
       "</table>\n",
       "</div>"
      ],
      "text/plain": [
       "   compound        date  negative  neutral  positive  \\\n",
       "0    0.9413  2021-09-20     0.000    0.692     0.308   \n",
       "1   -0.6486  2021-10-05     0.178    0.783     0.039   \n",
       "2    0.0000  2021-09-27     0.000    1.000     0.000   \n",
       "3   -0.6249  2021-09-28     0.150    0.850     0.000   \n",
       "4   -0.8674  2021-10-13     0.238    0.762     0.000   \n",
       "\n",
       "                                                text  \n",
       "0  Ive been on the sidelines with cryptocurrencie...  \n",
       "1  The chief executive of Mars, one of the worlds...  \n",
       "2  The global digital broker added a decentralize...  \n",
       "3  From Gus literally exploding, to Walter White'...  \n",
       "4  Blockchains revolutionized fundraising for ope...  "
      ]
     },
     "execution_count": 316,
     "metadata": {},
     "output_type": "execute_result"
    }
   ],
   "source": [
    "Chainlink_sentiments = []\n",
    "\n",
    "for article in Chainlink_headlines['articles']:\n",
    "    try:\n",
    "        text = article['content']\n",
    "        date = article['publishedAt'][:10]\n",
    "        sentiment = analyzer.polarity_scores(text)\n",
    "        compound = sentiment[\"compound\"]\n",
    "        pos = sentiment['pos']\n",
    "        neu = sentiment['neu']\n",
    "        neg = sentiment['neg']\n",
    "        \n",
    "        Chainlink_sentiments.append({\n",
    "            \"text\": text,\n",
    "            \"date\": date,\n",
    "            'compound': compound,\n",
    "            'positive': pos,\n",
    "            'negative': neg,\n",
    "            'neutral' : neu,\n",
    "            \n",
    "        })\n",
    "        \n",
    "    except AttributeError:\n",
    "        pass\n",
    "    \n",
    "Chainlink_df = pd.DataFrame(Chainlink_sentiments)\n",
    "\n",
    "Chainlink_df.head()"
   ]
  },
  {
   "cell_type": "code",
   "execution_count": null,
   "metadata": {},
   "outputs": [],
   "source": []
  },
  {
   "cell_type": "code",
   "execution_count": null,
   "metadata": {},
   "outputs": [],
   "source": []
  },
  {
   "cell_type": "code",
   "execution_count": 317,
   "metadata": {},
   "outputs": [
    {
     "data": {
      "text/plain": [
       "<bound method NDFrame.describe of     compound        date  negative  neutral  positive  \\\n",
       "0     0.5574  2021-09-16     0.036    0.838     0.127   \n",
       "1     0.0000  2021-09-23     0.000    1.000     0.000   \n",
       "2     0.0000  2021-09-25     0.000    1.000     0.000   \n",
       "3     0.3400  2021-10-06     0.000    0.924     0.076   \n",
       "4     0.4939  2021-10-06     0.000    0.781     0.219   \n",
       "5    -0.2411  2021-10-04     0.116    0.884     0.000   \n",
       "6     0.1901  2021-09-28     0.043    0.866     0.091   \n",
       "7     0.5461  2021-10-10     0.000    0.879     0.121   \n",
       "8     0.0000  2021-09-24     0.000    1.000     0.000   \n",
       "9     0.3400  2021-10-08     0.000    0.901     0.099   \n",
       "10    0.5423  2021-09-24     0.034    0.847     0.119   \n",
       "11   -0.7096  2021-09-16     0.195    0.765     0.040   \n",
       "12    0.3291  2021-09-27     0.000    0.925     0.075   \n",
       "13    0.2263  2021-09-28     0.000    0.951     0.049   \n",
       "14    0.0000  2021-10-05     0.000    1.000     0.000   \n",
       "15    0.0258  2021-10-06     0.000    0.967     0.033   \n",
       "16   -0.1154  2021-09-29     0.061    0.891     0.049   \n",
       "17    0.7269  2021-10-06     0.000    0.798     0.202   \n",
       "18   -0.4404  2021-09-24     0.091    0.909     0.000   \n",
       "19    0.5267  2021-10-08     0.000    0.860     0.140   \n",
       "20    0.4215  2021-09-16     0.000    0.903     0.097   \n",
       "21    0.4588  2021-09-22     0.000    0.892     0.108   \n",
       "22    0.3365  2021-09-24     0.000    0.936     0.064   \n",
       "23   -0.3400  2021-09-24     0.101    0.838     0.061   \n",
       "24    0.2960  2021-10-07     0.000    0.936     0.064   \n",
       "25    0.0000  2021-09-30     0.000    1.000     0.000   \n",
       "26    0.0000  2021-10-01     0.000    1.000     0.000   \n",
       "27    0.0000  2021-10-06     0.000    1.000     0.000   \n",
       "28    0.0000  2021-10-05     0.000    1.000     0.000   \n",
       "29    0.0000  2021-10-06     0.000    1.000     0.000   \n",
       "..       ...         ...       ...      ...       ...   \n",
       "70    0.5106  2021-10-05     0.000    0.871     0.129   \n",
       "71    0.4939  2021-09-22     0.000    0.897     0.103   \n",
       "72    0.0000  2021-09-29     0.000    1.000     0.000   \n",
       "73    0.0000  2021-10-07     0.000    1.000     0.000   \n",
       "74    0.0000  2021-10-13     0.000    1.000     0.000   \n",
       "75   -0.4588  2021-10-13     0.086    0.914     0.000   \n",
       "76    0.0000  2021-10-09     0.000    1.000     0.000   \n",
       "77   -0.1531  2021-09-15     0.046    0.954     0.000   \n",
       "78   -0.2960  2021-09-17     0.073    0.927     0.000   \n",
       "79    0.2023  2021-09-24     0.000    0.951     0.049   \n",
       "80    0.0000  2021-10-05     0.000    1.000     0.000   \n",
       "81    0.4939  2021-10-07     0.000    0.829     0.171   \n",
       "82    0.0000  2021-10-15     0.000    1.000     0.000   \n",
       "83    0.0000  2021-09-28     0.000    1.000     0.000   \n",
       "84    0.0000  2021-09-26     0.000    1.000     0.000   \n",
       "85    0.3182  2021-09-15     0.071    0.793     0.136   \n",
       "86    0.0000  2021-09-30     0.000    1.000     0.000   \n",
       "87    0.2960  2021-09-16     0.044    0.875     0.081   \n",
       "88    0.5574  2021-09-27     0.000    0.863     0.137   \n",
       "89    0.0000  2021-09-22     0.000    1.000     0.000   \n",
       "90   -0.3919  2021-09-21     0.112    0.888     0.000   \n",
       "91   -0.2263  2021-10-12     0.064    0.936     0.000   \n",
       "92    0.0000  2021-09-22     0.000    1.000     0.000   \n",
       "93    0.0000  2021-10-13     0.000    1.000     0.000   \n",
       "94    0.4588  2021-10-15     0.000    0.921     0.079   \n",
       "95    0.0000  2021-09-24     0.000    1.000     0.000   \n",
       "96    0.5719  2021-10-07     0.000    0.885     0.115   \n",
       "97    0.3182  2021-09-29     0.000    0.937     0.063   \n",
       "98    0.5719  2021-09-15     0.000    0.890     0.110   \n",
       "99    0.5106  2021-10-13     0.000    0.888     0.112   \n",
       "\n",
       "                                                 text  \n",
       "0   You won't have to stick to Bitcoin if you're d...  \n",
       "1   Four months after Twitter first introduced in-...  \n",
       "2   Bitcoin and similar blockchain-based cryptos e...  \n",
       "3   <ul><li>Bitcoin, in terms of market value, ros...  \n",
       "4   How high are the chances of Bitcoin sustaining...  \n",
       "5   JPMorgan CEO Jamie Dimon is still not a Bitcoi...  \n",
       "6   Elon Musk has performed a sudden U-turn on bit...  \n",
       "7   Specifically, why did someone make a massive p...  \n",
       "8   Its the countrys latest crackdown on digital c...  \n",
       "9   Last week, the Wall Street Journal ran a piece...  \n",
       "10  Twitter will now allow people to tip their fav...  \n",
       "11  image captionProtesters held signs reading \"no...  \n",
       "12  Cryptocurrency mining is awildlyenergy-intensi...  \n",
       "13  PayPal has two decades of experience in online...  \n",
       "14  The SEC boss remains mum about the regulatory ...  \n",
       "15  Digital currencies backed by central banks are...  \n",
       "16  Tesla CEO Elon Musk on Tuesday said the U.S. g...  \n",
       "17  A There Will Be Blood-style drama unfolds in C...  \n",
       "18  19 with 16 posters participating\\r\\nBitcoins m...  \n",
       "19  Securities and Exchange Commission headquarter...  \n",
       "20  A representation of cryptocurrency Bitcoin is ...  \n",
       "21  Robinhood plans to start a cryptocurrency wall...  \n",
       "22  Editor's Note: With so much market volatility,...  \n",
       "23  Bitcoin\\r\\nDan Kitwood/ Getty Images\\r\\nShares...  \n",
       "24  Bitcoin.\\r\\nChesnot/Getty Images\\r\\nA new exch...  \n",
       "25  A representation of cryptocurrency Bitcoin is ...  \n",
       "26  By Reuters Staff\\r\\nOct 1 (Reuters) - Bitcoin ...  \n",
       "27  Representations of the Bitcoin cryptocurrency ...  \n",
       "28  A representation of virtual currency bitcoin i...  \n",
       "29  A representation of the virtual cryptocurrency...  \n",
       "..                                                ...  \n",
       "70  By Reuters Staff\\r\\nOct 5 (Reuters) - U.S. Ban...  \n",
       "71  Bitcoin\\r\\nNurphoto / Getty Images\\r\\n<ul><li>...  \n",
       "72  El Salvador and bitcoin\\r\\nSOPA Images / Getty...  \n",
       "73  Bitcoin\\r\\nNurphoto / Getty Images\\r\\n<ul><li>...  \n",
       "74  Bitcoin and fiat currency.\\r\\nSOPA images\\r\\n<...  \n",
       "75  Bitcoin mining rigs.\\r\\nLARS HAGBERG/AFP via G...  \n",
       "76  Michael Dell is bullish on blockchain technolo...  \n",
       "77  NEW YORK, Sept 15 (Reuters) - Billionaire inve...  \n",
       "78  By Reuters Staff\\r\\nSAN SALVADOR (Reuters) - E...  \n",
       "79  NEW YORK, Sept 24 (Reuters) - Chinas moves to ...  \n",
       "80  A U.S. dollar banknote is seen in this illustr...  \n",
       "81  EL ZONTE, El Salvador, Oct 7 (Reuters) - A gro...  \n",
       "82  By Reuters Staff\\r\\nJack Dorsey, co-founder of...  \n",
       "83  Bitcoin\\r\\nNurphoto\\r\\nInvestment bank Morgan ...  \n",
       "84  The cryptocurrency-ATM company Coinmover has o...  \n",
       "85  Sopa Images/Getty Images\\r\\nFidelity Digital A...  \n",
       "86  Jordan Mansfield /Getty Images\\r\\n<ul><li>Bitc...  \n",
       "87  Australia-based buy now, pay later (BNPL) prov...  \n",
       "88  Miami Mayor Francis Suarez.\\r\\nLynne Sladky/AP...  \n",
       "89  Mining machines\\r\\nFEDERICO PARRA / Getty Imag...  \n",
       "90  Evergrande\\r\\nSTR/ Getty images\\r\\nBitcoin hov...  \n",
       "91  Mike Novogratz.\\r\\nJohn Lamparski/Getty Images...  \n",
       "92  Edward Smith/Getty Images\\r\\nInvesco confirmed...  \n",
       "93  BlackRock CEO Larry Fink (left) and JPMorgan C...  \n",
       "94  Shannon Stapleton/Reuters\\r\\nWelcome to 10 Thi...  \n",
       "95  Last May, the Chinese governmentbanned the cou...  \n",
       "96  This Wednesday, the price of Bitcoin (BTC) man...  \n",
       "97  Jack Dorsey , CEO of Twitter, had already anno...  \n",
       "98  Ruben Sprich/Reuters\\r\\nRay Dalio, founder of ...  \n",
       "99  China's share of the global hashrate -- the co...  \n",
       "\n",
       "[100 rows x 6 columns]>"
      ]
     },
     "execution_count": 317,
     "metadata": {},
     "output_type": "execute_result"
    }
   ],
   "source": [
    "# Describe the Bitcoin Sentiment\n",
    "bitcoin_df.describe"
   ]
  },
  {
   "cell_type": "code",
   "execution_count": 318,
   "metadata": {},
   "outputs": [
    {
     "data": {
      "text/plain": [
       "<bound method NDFrame.describe of     compound        date  negative  neutral  positive  \\\n",
       "0     0.0000  2021-09-24     0.000    1.000     0.000   \n",
       "1     0.5574  2021-09-16     0.036    0.838     0.127   \n",
       "2     0.0000  2021-10-14     0.000    1.000     0.000   \n",
       "3     0.2865  2021-09-16     0.126    0.694     0.180   \n",
       "4     0.4588  2021-09-22     0.000    0.892     0.108   \n",
       "5     0.4215  2021-09-25     0.000    0.899     0.101   \n",
       "6     0.6705  2021-09-21     0.000    0.812     0.188   \n",
       "7     0.0000  2021-09-19     0.000    1.000     0.000   \n",
       "8     0.8765  2021-09-22     0.000    0.755     0.245   \n",
       "9    -0.6705  2021-09-15     0.169    0.831     0.000   \n",
       "10    0.4215  2021-09-16     0.000    0.903     0.097   \n",
       "11    0.0000  2021-10-11     0.000    1.000     0.000   \n",
       "12    0.1280  2021-09-16     0.000    0.952     0.048   \n",
       "13    0.0000  2021-10-12     0.000    1.000     0.000   \n",
       "14   -0.3818  2021-09-17     0.098    0.847     0.056   \n",
       "15    0.4404  2021-09-16     0.000    0.914     0.086   \n",
       "16    0.2023  2021-09-17     0.000    0.922     0.078   \n",
       "17    0.0000  2021-10-04     0.000    1.000     0.000   \n",
       "18    0.0000  2021-10-01     0.000    1.000     0.000   \n",
       "19    0.6705  2021-10-12     0.048    0.806     0.146   \n",
       "20    0.0000  2021-10-05     0.000    1.000     0.000   \n",
       "21    0.0000  2021-09-30     0.000    1.000     0.000   \n",
       "22    0.0000  2021-10-06     0.000    1.000     0.000   \n",
       "23    0.3400  2021-09-24     0.000    0.921     0.079   \n",
       "24    0.4767  2021-10-03     0.000    0.925     0.075   \n",
       "25    0.0000  2021-10-07     0.000    1.000     0.000   \n",
       "26    0.9413  2021-09-20     0.000    0.692     0.308   \n",
       "27    0.0000  2021-10-04     0.000    1.000     0.000   \n",
       "28    0.5423  2021-09-24     0.034    0.847     0.119   \n",
       "29    0.4767  2021-10-04     0.000    0.925     0.075   \n",
       "..       ...         ...       ...      ...       ...   \n",
       "70    0.5994  2021-09-15     0.000    0.864     0.136   \n",
       "71   -0.5859  2021-10-07     0.142    0.858     0.000   \n",
       "72    0.4019  2021-10-13     0.000    0.920     0.080   \n",
       "73    0.2263  2021-09-16     0.036    0.904     0.059   \n",
       "74   -0.2960  2021-09-24     0.064    0.936     0.000   \n",
       "75    0.0466  2021-09-27     0.104    0.788     0.108   \n",
       "76    0.0000  2021-10-08     0.000    1.000     0.000   \n",
       "77    0.0000  2021-09-23     0.000    1.000     0.000   \n",
       "78    0.5346  2021-10-15     0.000    0.842     0.158   \n",
       "79    0.6808  2021-10-13     0.000    0.859     0.141   \n",
       "80    0.0000  2021-10-07     0.000    1.000     0.000   \n",
       "81    0.2023  2021-10-01     0.000    0.948     0.052   \n",
       "82   -0.2732  2021-10-15     0.065    0.935     0.000   \n",
       "83    0.5267  2021-10-05     0.000    0.872     0.128   \n",
       "84    0.0000  2021-09-24     0.000    1.000     0.000   \n",
       "85    0.4588  2021-10-04     0.041    0.838     0.122   \n",
       "86    0.0000  2021-09-30     0.000    1.000     0.000   \n",
       "87   -0.2023  2021-09-16     0.099    0.824     0.077   \n",
       "88    0.0000  2021-10-02     0.000    1.000     0.000   \n",
       "89   -0.7579  2021-09-24     0.183    0.817     0.000   \n",
       "90    0.4939  2021-09-16     0.000    0.877     0.123   \n",
       "91   -0.2960  2021-09-27     0.103    0.829     0.069   \n",
       "92    0.0000  2021-09-22     0.000    1.000     0.000   \n",
       "93    0.0000  2021-09-30     0.000    1.000     0.000   \n",
       "94    0.0000  2021-09-28     0.000    1.000     0.000   \n",
       "95   -0.0772  2021-09-15     0.067    0.873     0.060   \n",
       "96    0.6597  2021-09-17     0.000    0.847     0.153   \n",
       "97    0.4019  2021-09-30     0.000    0.922     0.078   \n",
       "98    0.3818  2021-10-12     0.000    0.920     0.080   \n",
       "99   -0.2960  2021-10-03     0.056    0.944     0.000   \n",
       "\n",
       "                                                 text  \n",
       "0   Its the countrys latest crackdown on digital c...  \n",
       "1   You won't have to stick to Bitcoin if you're d...  \n",
       "2   Mark Cuban has some advice for people who are ...  \n",
       "3   OpenSea isn't wasting much time after its head...  \n",
       "4   Robinhood plans to start a cryptocurrency wall...  \n",
       "5   image source, foundation.app/@SideEyeingChloe\\...  \n",
       "6   image credit:Sorare\\r\\nFrench startup Sorare h...  \n",
       "7   Vitalik Buterin\\r\\nVitalik Buterin dreamed up ...  \n",
       "8   The world is slowly but surely making a shift ...  \n",
       "9   Sen. Elizabeth Warren.\\r\\nGREG NASH/POOL/AFP v...  \n",
       "10  A representation of cryptocurrency Bitcoin is ...  \n",
       "11  An immersive art installation, which will be c...  \n",
       "12  Vitalik Buterin launched ethereum in 2015.\\r\\n...  \n",
       "13  Coinbase NFT\\r\\nRobert Nickelsberg/Getty Image...  \n",
       "14  Blockchain technology has emerged as a revolut...  \n",
       "15  At least it will take heat off the 10,000 bitc...  \n",
       "16  It’s a big day for the Amazon of the decentral...  \n",
       "17  Representations of cryptocurrencies Bitcoin, E...  \n",
       "18  By Reuters Staff\\r\\nOct 1 (Reuters) - Bitcoin ...  \n",
       "19  Ive always been vexed by the question of how t...  \n",
       "20  A representation of virtual currency bitcoin i...  \n",
       "21  A representation of cryptocurrency Bitcoin is ...  \n",
       "22  A representation of the virtual cryptocurrency...  \n",
       "23  Bitcoin, Ethereum and other cryptocurrencies d...  \n",
       "24  NFT art could be a new way to spend and make m...  \n",
       "25  According to founder Vitalik Buterin, the Ethe...  \n",
       "26  Ive been on the sidelines with cryptocurrencie...  \n",
       "27  Everybody's heard of cryptocurrency these days...  \n",
       "28  Twitter will now allow people to tip their fav...  \n",
       "29  NFT art could be a new way to spend and make m...  \n",
       "..                                                ...  \n",
       "70  Through the Next Generation Internet (NGI) ini...  \n",
       "71  There have been some high profile errors on De...  \n",
       "72  Castle Craig Hospital provides treatment for p...  \n",
       "73  By the time Sonic the Hedgehog 2 rolls into th...  \n",
       "74  China on Friday reiterated its crackdown on cr...  \n",
       "75  If you're like most of the world, you leave cr...  \n",
       "76  Richard is senior editor at The New Stack and ...  \n",
       "77  Paolo Ardoino was on the front lines of one of...  \n",
       "78  Personal Finance Insider writes about products...  \n",
       "79  Everybody has a side hustle these days. With s...  \n",
       "80  Mike Novogratz is one of the most high-profile...  \n",
       "81  TikTok music star Bella Poarch\\r\\nJason Kempin...  \n",
       "82  Axie Infinity.\\r\\nAxie Infinity media kit\\r\\nA...  \n",
       "83  Bitcoin and Ethereum\\r\\nNurPhoto / Getty Image...  \n",
       "84  Last May, the Chinese governmentbanned the cou...  \n",
       "85  September has been a tough month for cryptocur...  \n",
       "86  Lindsay Lohan has stepped into the NFT game, i...  \n",
       "87  A non-fungible token (NFT) marketplace has int...  \n",
       "88  AMC CEO Adam Aron. Amy Sussman/FilmMagic\\r\\nAm...  \n",
       "89  BEIJING -- Chinas central bank on Friday decla...  \n",
       "90  Bitcoin (CRYPTO: BTC), Ethereum's (CRYPTO: ETH...  \n",
       "91  Crypto\\r\\nBarcroft Media\\r\\nThe cryptocurrency...  \n",
       "92  Edward Smith/Getty Images\\r\\nInvesco confirmed...  \n",
       "93  Jordan Mansfield /Getty Images\\r\\n<ul><li>Bitc...  \n",
       "94  Twitter users from the US (except Hawaii and N...  \n",
       "95  If you were serious about this, you'd ask the ...  \n",
       "96  AMC Entertainment Holdings CEO Adam Aron tweet...  \n",
       "97  Oh, what a world: TikTok is now embracing the ...  \n",
       "98  As the world's second-largest cryptocurrency, ...  \n",
       "99  Samuel Soren Adams reckoned it was time to sto...  \n",
       "\n",
       "[100 rows x 6 columns]>"
      ]
     },
     "execution_count": 318,
     "metadata": {},
     "output_type": "execute_result"
    }
   ],
   "source": [
    "# Describe the Ethereum Sentiment\n",
    "Ethereum_df.describe"
   ]
  },
  {
   "cell_type": "code",
   "execution_count": null,
   "metadata": {
    "tags": []
   },
   "outputs": [],
   "source": []
  },
  {
   "cell_type": "markdown",
   "metadata": {
    "tags": []
   },
   "source": [
    "### Questions:\n",
    "\n",
    "Q: Which coin had the highest mean positive score?\n",
    "\n",
    "A: Ethereum\n",
    "\n",
    "Q: Which coin had the highest compound score?\n",
    "\n",
    "A: Ethereum\n",
    "\n",
    "Q. Which coin had the highest positive score?\n",
    "\n",
    "A: Ethereum"
   ]
  },
  {
   "cell_type": "markdown",
   "metadata": {},
   "source": [
    "---"
   ]
  },
  {
   "cell_type": "markdown",
   "metadata": {
    "tags": []
   },
   "source": [
    "## 2. Natural Language Processing\n",
    "---\n",
    "###   Tokenizer\n",
    "\n",
    "In this section, you will use NLTK and Python to tokenize the text for each coin. Be sure to:\n",
    "1. Lowercase each word.\n",
    "2. Remove Punctuation.\n",
    "3. Remove Stopwords."
   ]
  },
  {
   "cell_type": "code",
   "execution_count": 320,
   "metadata": {
    "tags": []
   },
   "outputs": [],
   "source": [
    "from nltk.tokenize import word_tokenize, sent_tokenize\n",
    "from nltk.corpus import stopwords\n",
    "from nltk.stem import WordNetLemmatizer, PorterStemmer\n",
    "from string import punctuation\n",
    "import re"
   ]
  },
  {
   "cell_type": "code",
   "execution_count": 321,
   "metadata": {
    "tags": []
   },
   "outputs": [
    {
     "name": "stderr",
     "output_type": "stream",
     "text": [
      "[nltk_data] Downloading package stopwords to\n",
      "[nltk_data]     /Users/manoloserrano/nltk_data...\n",
      "[nltk_data]   Package stopwords is already up-to-date!\n"
     ]
    }
   ],
   "source": [
    "# Instantiate the lemmatizer\n",
    "lemmatizer = WordNetLemmatizer()\n",
    "nltk.download('stopwords')\n",
    "# Create a list of stopwords\n",
    "words = vectorizer.get_feature_names()\n",
    "sw = set(stopwords.words('english'))\n",
    "first_result = [word.lower() for word in words if word.lower() not in sw]\n",
    "\n",
    "# Expand the default stopwords list if necessary\n"
   ]
  },
  {
   "cell_type": "markdown",
   "metadata": {
    "tags": []
   },
   "source": []
  },
  {
   "cell_type": "code",
   "execution_count": null,
   "metadata": {},
   "outputs": [],
   "source": [
    " "
   ]
  },
  {
   "cell_type": "code",
   "execution_count": 366,
   "metadata": {
    "tags": []
   },
   "outputs": [
    {
     "name": "stdout",
     "output_type": "stream",
     "text": [
      "['wont', 'stick', 'bitcoin', 'youre', 'determined', 'pay', 'movie', 'ticket', 'cryptocurrency', 'amc', 'chief', 'adam', 'aron', 'ha', 'revealed', 'theater', 'chain', 'also', 'accept', 'ethereum', 'litecoin', 'bi', 'char']\n",
      "['country', 'latest', 'crackdown', 'digital', 'currenciesillustration', 'alex', 'castro', 'vergethe', 'peoples', 'bank', 'china', 'country', 'central', 'bank', 'said', 'friday', 'cryptocurrency', 'transaction', 'ar', 'char']\n"
     ]
    }
   ],
   "source": [
    "# Complete the tokenizer function\n",
    "Bitcoin_content=Bitcoin_headlines['articles'][0]\n",
    "BTC_article=Bitcoin_content['content']\n",
    "    # Remove the punctuation from text\n",
    "def process_text(BTC_article):\n",
    "    sw = set(stopwords.words('english'))\n",
    "    regex = re.compile(\"[^a-zA-Z ]\")\n",
    "    re_clean = regex.sub('', BTC_article)\n",
    "    words = word_tokenize(re_clean)\n",
    "    lem = [lemmatizer.lemmatize(word) for word in words]\n",
    "    output = [word.lower() for word in lem if word.lower() not in sw]\n",
    "    return output\n",
    "\n",
    "\n",
    "BTC_processed = process_text(BTC_article)\n",
    "print(BTC_processed)\n",
    "\n",
    "    \n",
    "Ethereum_content=Ethereum_headlines['articles'][0]\n",
    "ETH_article=Ethereum_content['content']\n",
    "    # Remove the punctuation from text\n",
    "def process_text(ETH_article):\n",
    "    sw = set(stopwords.words('english'))\n",
    "    regex = re.compile(\"[^a-zA-Z ]\")\n",
    "    re_clean = regex.sub('', ETH_article)\n",
    "    words = word_tokenize(re_clean)\n",
    "    lem = [lemmatizer.lemmatize(word) for word in words]\n",
    "    output = [word.lower() for word in lem if word.lower() not in sw]\n",
    "    return output\n",
    "\n",
    "\n",
    "ETH_processed = process_text(ETH_article)\n",
    "print(ETH_processed)\n",
    "    \n",
    "    \n",
    "    \n",
    "    "
   ]
  },
  {
   "cell_type": "code",
   "execution_count": 367,
   "metadata": {},
   "outputs": [
    {
     "data": {
      "text/plain": [
       "['wont',\n",
       " 'stick',\n",
       " 'bitcoin',\n",
       " 'youre',\n",
       " 'determined',\n",
       " 'pay',\n",
       " 'movie',\n",
       " 'ticket',\n",
       " 'cryptocurrency',\n",
       " 'amc',\n",
       " 'chief',\n",
       " 'adam',\n",
       " 'aron',\n",
       " 'ha',\n",
       " 'revealed',\n",
       " 'theater',\n",
       " 'chain',\n",
       " 'also',\n",
       " 'accept',\n",
       " 'ethereum',\n",
       " 'litecoin',\n",
       " 'bi',\n",
       " 'char']"
      ]
     },
     "execution_count": 367,
     "metadata": {},
     "output_type": "execute_result"
    }
   ],
   "source": [
    "# Create a new tokens column for Bitcoin\n",
    "BTC_processed\n"
   ]
  },
  {
   "cell_type": "code",
   "execution_count": 368,
   "metadata": {},
   "outputs": [
    {
     "data": {
      "text/plain": [
       "['country',\n",
       " 'latest',\n",
       " 'crackdown',\n",
       " 'digital',\n",
       " 'currenciesillustration',\n",
       " 'alex',\n",
       " 'castro',\n",
       " 'vergethe',\n",
       " 'peoples',\n",
       " 'bank',\n",
       " 'china',\n",
       " 'country',\n",
       " 'central',\n",
       " 'bank',\n",
       " 'said',\n",
       " 'friday',\n",
       " 'cryptocurrency',\n",
       " 'transaction',\n",
       " 'ar',\n",
       " 'char']"
      ]
     },
     "execution_count": 368,
     "metadata": {},
     "output_type": "execute_result"
    }
   ],
   "source": [
    "# Create a new tokens column for Ethereum\n",
    "ETH_processed"
   ]
  },
  {
   "cell_type": "markdown",
   "metadata": {},
   "source": [
    "---"
   ]
  },
  {
   "cell_type": "markdown",
   "metadata": {},
   "source": [
    "### NGrams and Frequency Analysis\n",
    "\n",
    "In this section you will look at the ngrams and word frequency for each coin. \n",
    "\n",
    "1. Use NLTK to produce the n-grams for N = 2. \n",
    "2. List the top 10 words for each coin. "
   ]
  },
  {
   "cell_type": "code",
   "execution_count": 369,
   "metadata": {},
   "outputs": [],
   "source": [
    "from collections import Counter\n",
    "from nltk import ngrams"
   ]
  },
  {
   "cell_type": "code",
   "execution_count": 370,
   "metadata": {},
   "outputs": [
    {
     "name": "stdout",
     "output_type": "stream",
     "text": [
      "{'wont': 1, 'stick': 1, 'bitcoin': 1, 'youre': 1, 'determined': 1, 'pay': 1, 'movie': 1, 'ticket': 1, 'cryptocurrency': 1, 'amc': 1, 'chief': 1, 'adam': 1, 'aron': 1, 'ha': 1, 'revealed': 1, 'theater': 1, 'chain': 1, 'also': 1, 'accept': 1, 'ethereum': 1, 'litecoin': 1, 'bi': 1, 'char': 1}\n",
      "{('wont', 'stick'): 1, ('stick', 'bitcoin'): 1, ('bitcoin', 'youre'): 1, ('youre', 'determined'): 1, ('determined', 'pay'): 1, ('pay', 'movie'): 1, ('movie', 'ticket'): 1, ('ticket', 'cryptocurrency'): 1, ('cryptocurrency', 'amc'): 1, ('amc', 'chief'): 1, ('chief', 'adam'): 1, ('adam', 'aron'): 1, ('aron', 'ha'): 1, ('ha', 'revealed'): 1, ('revealed', 'theater'): 1, ('theater', 'chain'): 1, ('chain', 'also'): 1, ('also', 'accept'): 1, ('accept', 'ethereum'): 1, ('ethereum', 'litecoin'): 1, ('litecoin', 'bi'): 1, ('bi', 'char'): 1}\n"
     ]
    }
   ],
   "source": [
    "# Generate the Bitcoin N-grams where N=2\n",
    "BTC_word_counts= Counter(BTC_processed)\n",
    "print(dict(word_counts))\n",
    "\n",
    "BTC_bigram_counts = Counter(ngrams(BTC_processed, n=2))\n",
    "print(dict(BTC_bigram_counts))"
   ]
  },
  {
   "cell_type": "code",
   "execution_count": 371,
   "metadata": {},
   "outputs": [
    {
     "name": "stdout",
     "output_type": "stream",
     "text": [
      "{'wont': 1, 'stick': 1, 'bitcoin': 1, 'youre': 1, 'determined': 1, 'pay': 1, 'movie': 1, 'ticket': 1, 'cryptocurrency': 1, 'amc': 1, 'chief': 1, 'adam': 1, 'aron': 1, 'ha': 1, 'revealed': 1, 'theater': 1, 'chain': 1, 'also': 1, 'accept': 1, 'ethereum': 1, 'litecoin': 1, 'bi': 1, 'char': 1}\n",
      "{('country', 'latest'): 1, ('latest', 'crackdown'): 1, ('crackdown', 'digital'): 1, ('digital', 'currenciesillustration'): 1, ('currenciesillustration', 'alex'): 1, ('alex', 'castro'): 1, ('castro', 'vergethe'): 1, ('vergethe', 'peoples'): 1, ('peoples', 'bank'): 1, ('bank', 'china'): 1, ('china', 'country'): 1, ('country', 'central'): 1, ('central', 'bank'): 1, ('bank', 'said'): 1, ('said', 'friday'): 1, ('friday', 'cryptocurrency'): 1, ('cryptocurrency', 'transaction'): 1, ('transaction', 'ar'): 1, ('ar', 'char'): 1}\n"
     ]
    }
   ],
   "source": [
    "# Generate the Ethereum N-grams where N=2\n",
    "ETH_word_counts= Counter(ETH_processed)\n",
    "print(dict(word_counts))\n",
    "\n",
    "ETH_bigram_counts = Counter(ngrams(ETH_processed, n=2))\n",
    "print(dict(ETH_bigram_counts))"
   ]
  },
  {
   "cell_type": "code",
   "execution_count": 372,
   "metadata": {},
   "outputs": [],
   "source": [
    "# Function token_count generates the top 10 words for a given coin\n",
    "def token_count(tokens, N=3):\n",
    "    \"\"\"Returns the top N tokens from the frequency count\"\"\"\n",
    "    return Counter(tokens).most_common(N)"
   ]
  },
  {
   "cell_type": "code",
   "execution_count": 373,
   "metadata": {},
   "outputs": [
    {
     "name": "stdout",
     "output_type": "stream",
     "text": [
      "{'wont': 1, 'stick': 1, 'bitcoin': 1, 'youre': 1, 'determined': 1, 'pay': 1, 'movie': 1, 'ticket': 1, 'cryptocurrency': 1, 'amc': 1, 'chief': 1, 'adam': 1, 'aron': 1, 'ha': 1, 'revealed': 1, 'theater': 1, 'chain': 1, 'also': 1, 'accept': 1, 'ethereum': 1, 'litecoin': 1, 'bi': 1, 'char': 1}\n"
     ]
    }
   ],
   "source": [
    "# Use token_count to get the top 10 words for Bitcoin\n",
    "BTC_word_counts= Counter(BTC_processed)\n",
    "print(dict(BTC_word_counts))\n"
   ]
  },
  {
   "cell_type": "code",
   "execution_count": 374,
   "metadata": {},
   "outputs": [
    {
     "name": "stdout",
     "output_type": "stream",
     "text": [
      "{'country': 2, 'latest': 1, 'crackdown': 1, 'digital': 1, 'currenciesillustration': 1, 'alex': 1, 'castro': 1, 'vergethe': 1, 'peoples': 1, 'bank': 2, 'china': 1, 'central': 1, 'said': 1, 'friday': 1, 'cryptocurrency': 1, 'transaction': 1, 'ar': 1, 'char': 1}\n"
     ]
    }
   ],
   "source": [
    "# Use token_count to get the top 10 words for Ethereum\n",
    "ETH_word_counts= Counter(ETH_processed)\n",
    "print(dict(ETH_word_counts))\n"
   ]
  },
  {
   "cell_type": "markdown",
   "metadata": {},
   "source": [
    "---"
   ]
  },
  {
   "cell_type": "markdown",
   "metadata": {},
   "source": [
    "### Word Clouds\n",
    "\n",
    "In this section, you will generate word clouds for each coin to summarize the news for each coin"
   ]
  },
  {
   "cell_type": "code",
   "execution_count": 331,
   "metadata": {},
   "outputs": [],
   "source": [
    "from wordcloud import WordCloud\n",
    "import matplotlib.pyplot as plt\n",
    "plt.style.use('seaborn-whitegrid')\n",
    "import matplotlib as mpl\n",
    "mpl.rcParams['figure.figsize'] = [20.0, 10.0]\n",
    "\n"
   ]
  },
  {
   "cell_type": "code",
   "execution_count": 398,
   "metadata": {},
   "outputs": [
    {
     "data": {
      "text/plain": [
       "{'source': {'id': 'engadget', 'name': 'Engadget'},\n",
       " 'author': 'Jon Fingas',\n",
       " 'title': 'AMC theaters will accept cryptocurrencies beyond Bitcoin',\n",
       " 'description': \"You won't have to stick to Bitcoin if you're determined to pay for your movie ticket with cryptocurrency. AMC chief Adam Aron has revealed his theater chain will also accept Ethereum, Litecoin and Bitcoin Cash when crypto payments are available. He didn't hav…\",\n",
       " 'url': 'https://www.engadget.com/amc-theaters-accept-ethereum-litecoin-bitcoin-cash-132642183.html',\n",
       " 'urlToImage': 'https://s.yimg.com/os/creatr-uploaded-images/2021-09/4a01cb80-16eb-11ec-abfe-c7b840dd48ca',\n",
       " 'publishedAt': '2021-09-16T13:26:42Z',\n",
       " 'content': \"You won't have to stick to Bitcoin if you're determined to pay for your movie ticket with cryptocurrency. AMC chief Adam Aron has revealed his theater chain will also accept Ethereum, Litecoin and Bi… [+1198 chars]\"}"
      ]
     },
     "execution_count": 398,
     "metadata": {},
     "output_type": "execute_result"
    }
   ],
   "source": [
    "Bitcoin_content"
   ]
  },
  {
   "cell_type": "code",
   "execution_count": 403,
   "metadata": {},
   "outputs": [
    {
     "ename": "TypeError",
     "evalue": "'>=' not supported between instances of 'str' and 'int'",
     "output_type": "error",
     "traceback": [
      "\u001b[0;31m---------------------------------------------------------------------------\u001b[0m",
      "\u001b[0;31mTypeError\u001b[0m                                 Traceback (most recent call last)",
      "\u001b[0;32m<ipython-input-403-5654767c2f07>\u001b[0m in \u001b[0;36m<module>\u001b[0;34m\u001b[0m\n\u001b[1;32m     14\u001b[0m \u001b[0;34m\u001b[0m\u001b[0m\n\u001b[1;32m     15\u001b[0m top_words=Bitcoin_headlines[\n\u001b[0;32m---> 16\u001b[0;31m     \u001b[0;34m(\u001b[0m\u001b[0mBitcoin_content\u001b[0m\u001b[0;34m[\u001b[0m\u001b[0;34m\"content\"\u001b[0m\u001b[0;34m]\u001b[0m\u001b[0;34m>=\u001b[0m\u001b[0;36m10\u001b[0m\u001b[0;34m)\u001b[0m \u001b[0;34m&\u001b[0m \u001b[0;34m(\u001b[0m\u001b[0mBitcoin_content\u001b[0m\u001b[0;34m[\u001b[0m\u001b[0;34m'content'\u001b[0m\u001b[0;34m]\u001b[0m\u001b[0;34m<\u001b[0m\u001b[0;34m+\u001b[0m\u001b[0;36m30\u001b[0m\u001b[0;34m)\u001b[0m\u001b[0;34m\u001b[0m\u001b[0;34m\u001b[0m\u001b[0m\n\u001b[0m\u001b[1;32m     17\u001b[0m ]\n\u001b[1;32m     18\u001b[0m \u001b[0;34m\u001b[0m\u001b[0m\n",
      "\u001b[0;31mTypeError\u001b[0m: '>=' not supported between instances of 'str' and 'int'"
     ]
    }
   ],
   "source": [
    "# Generate the Bitcoin word cloud\n",
    "from sklearn.feature_extraction.text import CountVectorizer\n",
    "from sklearn.feature_extraction.text import TfidfVectorizer\n",
    "\n",
    "\n",
    "Bitcoin_news_df = pd.DataFrame(\n",
    "    list(zip(vectorizer.get_feature_names(), np.ravel(X.sum(axis=0)))),\n",
    "    columns=[\"Word\", \"Frequency\"],\n",
    ")\n",
    "vectorizer = TfidfVectorizer(stop_words='english')\n",
    "X = vectorizer.fit_transform(Bitcoin_headlines)\n",
    "\n",
    "#Bitcoin_news_df = Bitcoin_news_df.sort_values(by=[\"Frequency\"], ascending=False)\n",
    "\n",
    "top_words=Bitcoin_headlines[\n",
    "    (Bitcoin_content[\"content\"]>=10) & (Bitcoin_content['content']<+30)\n",
    "]\n",
    "\n",
    "\n",
    "terms_list = str(top_words['Word'].tolist())\n",
    "\n",
    "wordcloud = WordCloud(colormap=\"RdYlBu\").generate(terms_list)\n",
    "plt.imshow(wordcloud)\n",
    "plt.axis(\"off\")\n",
    "fontdict = {'fontsize': 20, 'fontweight' : 'bold'}\n",
    "plt.title('Bitcoin Word Cloud', fontdict=fontdict)\n",
    "plt.show"
   ]
  },
  {
   "cell_type": "code",
   "execution_count": 334,
   "metadata": {},
   "outputs": [],
   "source": [
    "# Generate the Ethereum word cloud\n"
   ]
  },
  {
   "cell_type": "markdown",
   "metadata": {},
   "source": [
    "---\n",
    "## 3. Named Entity Recognition\n",
    "\n",
    "In this section, you will build a named entity recognition model for both Bitcoin and Ethereum, then visualize the tags using SpaCy."
   ]
  },
  {
   "cell_type": "code",
   "execution_count": 335,
   "metadata": {},
   "outputs": [],
   "source": [
    "import spacy\n",
    "from spacy import displacy\n",
    "\n"
   ]
  },
  {
   "cell_type": "code",
   "execution_count": 336,
   "metadata": {},
   "outputs": [
    {
     "name": "stdout",
     "output_type": "stream",
     "text": [
      "Collecting en-core-web-sm==3.1.0\n",
      "  Downloading https://github.com/explosion/spacy-models/releases/download/en_core_web_sm-3.1.0/en_core_web_sm-3.1.0-py3-none-any.whl (13.6 MB)\n",
      "\u001b[K     |████████████████████████████████| 13.6 MB 749 kB/s eta 0:00:01\n",
      "\u001b[?25hRequirement already satisfied: spacy<3.2.0,>=3.1.0 in /Users/manoloserrano/opt/anaconda3/envs/pyvizenv/lib/python3.7/site-packages (from en-core-web-sm==3.1.0) (3.1.3)\n",
      "Requirement already satisfied: catalogue<2.1.0,>=2.0.6 in /Users/manoloserrano/opt/anaconda3/envs/pyvizenv/lib/python3.7/site-packages (from spacy<3.2.0,>=3.1.0->en-core-web-sm==3.1.0) (2.0.6)\n",
      "Requirement already satisfied: wasabi<1.1.0,>=0.8.1 in /Users/manoloserrano/opt/anaconda3/envs/pyvizenv/lib/python3.7/site-packages (from spacy<3.2.0,>=3.1.0->en-core-web-sm==3.1.0) (0.8.2)\n",
      "Requirement already satisfied: murmurhash<1.1.0,>=0.28.0 in /Users/manoloserrano/opt/anaconda3/envs/pyvizenv/lib/python3.7/site-packages (from spacy<3.2.0,>=3.1.0->en-core-web-sm==3.1.0) (1.0.5)\n",
      "Requirement already satisfied: setuptools in /Users/manoloserrano/opt/anaconda3/envs/pyvizenv/lib/python3.7/site-packages (from spacy<3.2.0,>=3.1.0->en-core-web-sm==3.1.0) (52.0.0.post20210125)\n",
      "Requirement already satisfied: typing-extensions<4.0.0.0,>=3.7.4 in /Users/manoloserrano/opt/anaconda3/envs/pyvizenv/lib/python3.7/site-packages (from spacy<3.2.0,>=3.1.0->en-core-web-sm==3.1.0) (3.7.4.3)\n",
      "Requirement already satisfied: packaging>=20.0 in /Users/manoloserrano/opt/anaconda3/envs/pyvizenv/lib/python3.7/site-packages (from spacy<3.2.0,>=3.1.0->en-core-web-sm==3.1.0) (20.9)\n",
      "Requirement already satisfied: typer<0.5.0,>=0.3.0 in /Users/manoloserrano/opt/anaconda3/envs/pyvizenv/lib/python3.7/site-packages (from spacy<3.2.0,>=3.1.0->en-core-web-sm==3.1.0) (0.4.0)\n",
      "Requirement already satisfied: preshed<3.1.0,>=3.0.2 in /Users/manoloserrano/opt/anaconda3/envs/pyvizenv/lib/python3.7/site-packages (from spacy<3.2.0,>=3.1.0->en-core-web-sm==3.1.0) (3.0.5)\n",
      "Requirement already satisfied: requests<3.0.0,>=2.13.0 in /Users/manoloserrano/opt/anaconda3/envs/pyvizenv/lib/python3.7/site-packages (from spacy<3.2.0,>=3.1.0->en-core-web-sm==3.1.0) (2.25.1)\n",
      "Requirement already satisfied: pydantic!=1.8,!=1.8.1,<1.9.0,>=1.7.4 in /Users/manoloserrano/opt/anaconda3/envs/pyvizenv/lib/python3.7/site-packages (from spacy<3.2.0,>=3.1.0->en-core-web-sm==3.1.0) (1.8.2)\n",
      "Requirement already satisfied: spacy-legacy<3.1.0,>=3.0.8 in /Users/manoloserrano/opt/anaconda3/envs/pyvizenv/lib/python3.7/site-packages (from spacy<3.2.0,>=3.1.0->en-core-web-sm==3.1.0) (3.0.8)\n",
      "Requirement already satisfied: pathy>=0.3.5 in /Users/manoloserrano/opt/anaconda3/envs/pyvizenv/lib/python3.7/site-packages (from spacy<3.2.0,>=3.1.0->en-core-web-sm==3.1.0) (0.6.0)\n",
      "Requirement already satisfied: thinc<8.1.0,>=8.0.9 in /Users/manoloserrano/opt/anaconda3/envs/pyvizenv/lib/python3.7/site-packages (from spacy<3.2.0,>=3.1.0->en-core-web-sm==3.1.0) (8.0.10)\n",
      "Requirement already satisfied: jinja2 in /Users/manoloserrano/opt/anaconda3/envs/pyvizenv/lib/python3.7/site-packages (from spacy<3.2.0,>=3.1.0->en-core-web-sm==3.1.0) (2.11.3)\n",
      "Requirement already satisfied: blis<0.8.0,>=0.4.0 in /Users/manoloserrano/opt/anaconda3/envs/pyvizenv/lib/python3.7/site-packages (from spacy<3.2.0,>=3.1.0->en-core-web-sm==3.1.0) (0.7.4)\n",
      "Requirement already satisfied: numpy>=1.15.0 in /Users/manoloserrano/opt/anaconda3/envs/pyvizenv/lib/python3.7/site-packages (from spacy<3.2.0,>=3.1.0->en-core-web-sm==3.1.0) (1.20.1)\n",
      "Requirement already satisfied: cymem<2.1.0,>=2.0.2 in /Users/manoloserrano/opt/anaconda3/envs/pyvizenv/lib/python3.7/site-packages (from spacy<3.2.0,>=3.1.0->en-core-web-sm==3.1.0) (2.0.5)\n",
      "Requirement already satisfied: srsly<3.0.0,>=2.4.1 in /Users/manoloserrano/opt/anaconda3/envs/pyvizenv/lib/python3.7/site-packages (from spacy<3.2.0,>=3.1.0->en-core-web-sm==3.1.0) (2.4.1)\n",
      "Requirement already satisfied: tqdm<5.0.0,>=4.38.0 in /Users/manoloserrano/opt/anaconda3/envs/pyvizenv/lib/python3.7/site-packages (from spacy<3.2.0,>=3.1.0->en-core-web-sm==3.1.0) (4.59.0)\n",
      "Requirement already satisfied: zipp>=0.5 in /Users/manoloserrano/opt/anaconda3/envs/pyvizenv/lib/python3.7/site-packages (from catalogue<2.1.0,>=2.0.6->spacy<3.2.0,>=3.1.0->en-core-web-sm==3.1.0) (3.4.1)\n",
      "Requirement already satisfied: pyparsing>=2.0.2 in /Users/manoloserrano/opt/anaconda3/envs/pyvizenv/lib/python3.7/site-packages (from packaging>=20.0->spacy<3.2.0,>=3.1.0->en-core-web-sm==3.1.0) (2.4.7)\n",
      "Requirement already satisfied: smart-open<6.0.0,>=5.0.0 in /Users/manoloserrano/opt/anaconda3/envs/pyvizenv/lib/python3.7/site-packages (from pathy>=0.3.5->spacy<3.2.0,>=3.1.0->en-core-web-sm==3.1.0) (5.2.1)\n",
      "Requirement already satisfied: certifi>=2017.4.17 in /Users/manoloserrano/opt/anaconda3/envs/pyvizenv/lib/python3.7/site-packages (from requests<3.0.0,>=2.13.0->spacy<3.2.0,>=3.1.0->en-core-web-sm==3.1.0) (2021.5.30)\n",
      "Requirement already satisfied: urllib3<1.27,>=1.21.1 in /Users/manoloserrano/opt/anaconda3/envs/pyvizenv/lib/python3.7/site-packages (from requests<3.0.0,>=2.13.0->spacy<3.2.0,>=3.1.0->en-core-web-sm==3.1.0) (1.26.4)\n",
      "Requirement already satisfied: chardet<5,>=3.0.2 in /Users/manoloserrano/opt/anaconda3/envs/pyvizenv/lib/python3.7/site-packages (from requests<3.0.0,>=2.13.0->spacy<3.2.0,>=3.1.0->en-core-web-sm==3.1.0) (4.0.0)\n",
      "Requirement already satisfied: idna<3,>=2.5 in /Users/manoloserrano/opt/anaconda3/envs/pyvizenv/lib/python3.7/site-packages (from requests<3.0.0,>=2.13.0->spacy<3.2.0,>=3.1.0->en-core-web-sm==3.1.0) (2.10)\n",
      "Requirement already satisfied: click<9.0.0,>=7.1.1 in /Users/manoloserrano/opt/anaconda3/envs/pyvizenv/lib/python3.7/site-packages (from typer<0.5.0,>=0.3.0->spacy<3.2.0,>=3.1.0->en-core-web-sm==3.1.0) (7.1.2)\n",
      "Requirement already satisfied: MarkupSafe>=0.23 in /Users/manoloserrano/opt/anaconda3/envs/pyvizenv/lib/python3.7/site-packages (from jinja2->spacy<3.2.0,>=3.1.0->en-core-web-sm==3.1.0) (1.1.1)\n",
      "\u001b[38;5;2m✔ Download and installation successful\u001b[0m\n",
      "You can now load the package via spacy.load('en_core_web_sm')\n"
     ]
    }
   ],
   "source": [
    "# Download the language model for SpaCy\n",
    "!python -m spacy download en_core_web_sm"
   ]
  },
  {
   "cell_type": "code",
   "execution_count": 337,
   "metadata": {},
   "outputs": [],
   "source": [
    "# Load the spaCy model\n",
    "nlp = spacy.load('en_core_web_sm')"
   ]
  },
  {
   "cell_type": "markdown",
   "metadata": {},
   "source": [
    "---\n",
    "### Bitcoin NER"
   ]
  },
  {
   "cell_type": "code",
   "execution_count": 404,
   "metadata": {},
   "outputs": [
    {
     "ename": "AttributeError",
     "evalue": "'dict' object has no attribute 'ents'",
     "output_type": "error",
     "traceback": [
      "\u001b[0;31m---------------------------------------------------------------------------\u001b[0m",
      "\u001b[0;31mAttributeError\u001b[0m                            Traceback (most recent call last)",
      "\u001b[0;32m<ipython-input-404-931f4fd8bcf9>\u001b[0m in \u001b[0;36m<module>\u001b[0;34m\u001b[0m\n\u001b[1;32m      1\u001b[0m \u001b[0;31m# Concatenate all of the Bitcoin text together\u001b[0m\u001b[0;34m\u001b[0m\u001b[0;34m\u001b[0m\u001b[0;34m\u001b[0m\u001b[0m\n\u001b[0;32m----> 2\u001b[0;31m \u001b[0;32mfor\u001b[0m \u001b[0ment\u001b[0m \u001b[0;32min\u001b[0m \u001b[0mBitcoin_headlines\u001b[0m\u001b[0;34m.\u001b[0m\u001b[0ments\u001b[0m\u001b[0;34m:\u001b[0m\u001b[0;34m\u001b[0m\u001b[0;34m\u001b[0m\u001b[0m\n\u001b[0m\u001b[1;32m      3\u001b[0m     \u001b[0mprint\u001b[0m\u001b[0;34m(\u001b[0m\u001b[0ment\u001b[0m\u001b[0;34m.\u001b[0m\u001b[0mtext\u001b[0m\u001b[0;34m,\u001b[0m\u001b[0ment\u001b[0m\u001b[0;34m.\u001b[0m\u001b[0mlabel_\u001b[0m\u001b[0;34m)\u001b[0m\u001b[0;34m\u001b[0m\u001b[0;34m\u001b[0m\u001b[0m\n",
      "\u001b[0;31mAttributeError\u001b[0m: 'dict' object has no attribute 'ents'"
     ]
    }
   ],
   "source": [
    "# Concatenate all of the Bitcoin text together\n",
    "for ent in Bitcoin_headlines.ents:\n",
    "    print(ent.text,ent.label_)"
   ]
  },
  {
   "cell_type": "code",
   "execution_count": null,
   "metadata": {},
   "outputs": [],
   "source": [
    "# Run the NER processor on all of the text\n",
    "\n",
    "\n",
    "# Add a title to the document\n",
    "# YOUR CODE HERE!"
   ]
  },
  {
   "cell_type": "code",
   "execution_count": null,
   "metadata": {},
   "outputs": [],
   "source": [
    "# Render the visualization\n",
    "# YOUR CODE HERE!"
   ]
  },
  {
   "cell_type": "code",
   "execution_count": null,
   "metadata": {},
   "outputs": [],
   "source": [
    "# List all Entities\n",
    "# YOUR CODE HERE!"
   ]
  },
  {
   "cell_type": "markdown",
   "metadata": {},
   "source": [
    "---"
   ]
  },
  {
   "cell_type": "markdown",
   "metadata": {},
   "source": [
    "### Ethereum NER"
   ]
  },
  {
   "cell_type": "code",
   "execution_count": null,
   "metadata": {},
   "outputs": [],
   "source": [
    "# Concatenate all of the Ethereum text together\n",
    "# YOUR CODE HERE!"
   ]
  },
  {
   "cell_type": "code",
   "execution_count": 32,
   "metadata": {},
   "outputs": [],
   "source": [
    "# Run the NER processor on all of the text\n",
    "# YOUR CODE HERE!\n",
    "\n",
    "# Add a title to the document\n",
    "# YOUR CODE HERE!"
   ]
  },
  {
   "cell_type": "code",
   "execution_count": 33,
   "metadata": {},
   "outputs": [],
   "source": [
    "# Render the visualization\n",
    "# YOUR CODE HERE!"
   ]
  },
  {
   "cell_type": "code",
   "execution_count": 34,
   "metadata": {},
   "outputs": [],
   "source": [
    "# List all Entities\n",
    "# YOUR CODE HERE!"
   ]
  },
  {
   "cell_type": "markdown",
   "metadata": {},
   "source": [
    "---"
   ]
  }
 ],
 "metadata": {
  "file_extension": ".py",
  "kernelspec": {
   "display_name": "Python [conda env:pyvizenv] *",
   "language": "python",
   "name": "conda-env-pyvizenv-py"
  },
  "language_info": {
   "codemirror_mode": {
    "name": "ipython",
    "version": 3
   },
   "file_extension": ".py",
   "mimetype": "text/x-python",
   "name": "python",
   "nbconvert_exporter": "python",
   "pygments_lexer": "ipython3",
   "version": "3.7.7"
  },
  "mimetype": "text/x-python",
  "name": "python",
  "npconvert_exporter": "python",
  "pygments_lexer": "ipython3",
  "version": 3
 },
 "nbformat": 4,
 "nbformat_minor": 4
}
